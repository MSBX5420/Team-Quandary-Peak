{
  "nbformat": 4,
  "nbformat_minor": 0,
  "metadata": {
    "colab": {
      "name": "COVID19-TS-death ok!",
      "provenance": []
    },
    "kernelspec": {
      "name": "python3",
      "display_name": "Python 3"
    },
    "accelerator": "GPU"
  },
  "cells": [
    {
      "cell_type": "markdown",
      "metadata": {
        "id": "y52VwUVFoGIp",
        "colab_type": "text"
      },
      "source": [
        "## Loading,Inspecting Google Analytics Timeseries data\n"
      ]
    },
    {
      "cell_type": "code",
      "metadata": {
        "id": "3M2V1xzJmvdb",
        "colab_type": "code",
        "outputId": "f7ab9c2a-580a-4c87-df98-de6a48513586",
        "colab": {
          "base_uri": "https://localhost:8080/",
          "height": 85
        }
      },
      "source": [
        "from time import sleep\n",
        "import csv\n",
        "\n",
        "import pandas as pd\n",
        "from fbprophet import Prophet\n",
        "import numpy as np\n",
        "import pandas as pd\n",
        "\n",
        "import seaborn as sns\n",
        "\n",
        "from statsmodels.graphics.tsaplots import plot_pacf\n",
        "from statsmodels.graphics.tsaplots import plot_acf\n",
        "from statsmodels.tsa.stattools import adfuller\n",
        "\n"
      ],
      "execution_count": 0,
      "outputs": [
        {
          "output_type": "stream",
          "text": [
            "/usr/local/lib/python3.6/dist-packages/statsmodels/tools/_testing.py:19: FutureWarning:\n",
            "\n",
            "pandas.util.testing is deprecated. Use the functions in the public API at pandas.testing instead.\n",
            "\n"
          ],
          "name": "stderr"
        }
      ]
    },
    {
      "cell_type": "code",
      "metadata": {
        "id": "6a42QljeoQQv",
        "colab_type": "code",
        "colab": {}
      },
      "source": [
        "#source: https://www.analyticsvidya.com/blog/2018/09/non-stationary-time-series-python/\n",
        "\n",
        "def adf_test(timeseries):\n",
        "    #Perform Dickey-Fuller test:\n",
        "    print ('Results of Dickey-Fuller Test:')\n",
        "    dftest = adfuller(timeseries, autolag='AIC')\n",
        "    dfoutput = pd.Series(dftest[0:4], index=['Test Statistic','p-value','#Lags Used','Number of Observations Used'])\n",
        "    for key,value in dftest[4].items():\n",
        "       dfoutput['Critical Value (%s)'%key] = value\n",
        "    print (dfoutput)"
      ],
      "execution_count": 0,
      "outputs": []
    },
    {
      "cell_type": "code",
      "metadata": {
        "id": "v2VSLkxXokAz",
        "colab_type": "code",
        "outputId": "25b54c00-8186-4a49-8835-61e443a7d501",
        "colab": {
          "base_uri": "https://localhost:8080/",
          "height": 122
        }
      },
      "source": [
        "from google.colab import drive\n",
        "import pandas as pd\n",
        "import io\n",
        "drive.mount('/content/gdrive')\n",
        "from datetime import datetime\n"
      ],
      "execution_count": 0,
      "outputs": [
        {
          "output_type": "stream",
          "text": [
            "Go to this URL in a browser: https://accounts.google.com/o/oauth2/auth?client_id=947318989803-6bn6qk8qdgf4n4g3pfee6491hc0brc4i.apps.googleusercontent.com&redirect_uri=urn%3aietf%3awg%3aoauth%3a2.0%3aoob&response_type=code&scope=email%20https%3a%2f%2fwww.googleapis.com%2fauth%2fdocs.test%20https%3a%2f%2fwww.googleapis.com%2fauth%2fdrive%20https%3a%2f%2fwww.googleapis.com%2fauth%2fdrive.photos.readonly%20https%3a%2f%2fwww.googleapis.com%2fauth%2fpeopleapi.readonly\n",
            "\n",
            "Enter your authorization code:\n",
            "··········\n",
            "Mounted at /content/gdrive\n"
          ],
          "name": "stdout"
        }
      ]
    },
    {
      "cell_type": "code",
      "metadata": {
        "id": "56g7LXUgrBL9",
        "colab_type": "code",
        "colab": {}
      },
      "source": [
        "#if we try to lazy in google analytics csv exports,we run into trouble\n",
        "googleanalyticsdata = pd.read_csv('/content/gdrive/My Drive/death1.csv')\n"
      ],
      "execution_count": 0,
      "outputs": []
    },
    {
      "cell_type": "code",
      "metadata": {
        "id": "4MhEea5RrZLQ",
        "colab_type": "code",
        "outputId": "7170f1fb-2613-4e04-84c6-930e27b84474",
        "colab": {
          "base_uri": "https://localhost:8080/",
          "height": 1000
        }
      },
      "source": [
        "#lets back up a step and print out the google analytics file,see if we can \n",
        "#locate the error.I am also goining to need to know how long the data is, as well\n",
        "\n",
        "count = 0 \n",
        "csvreader = csv.reader(open('/content/gdrive/My Drive/death1.csv'))\n",
        "for aline in csvreader:\n",
        "  count += 1\n",
        "  print(aline)\n",
        "  print('%s lines of data' %count)"
      ],
      "execution_count": 0,
      "outputs": [
        {
          "output_type": "stream",
          "text": [
            "['# ----------------------------------------', '']\n",
            "1 lines of data\n",
            "['# All Web Site Data', '']\n",
            "2 lines of data\n",
            "['# Audience Overview', '']\n",
            "3 lines of data\n",
            "['# 20190815-20200328', '']\n",
            "4 lines of data\n",
            "['# ----------------------------------------', '']\n",
            "5 lines of data\n",
            "['', '']\n",
            "6 lines of data\n",
            "['Day Index', 'Num0fCase']\n",
            "7 lines of data\n",
            "['2020/1/22', '0']\n",
            "8 lines of data\n",
            "['2020/1/23', '0']\n",
            "9 lines of data\n",
            "['2020/1/24', '0']\n",
            "10 lines of data\n",
            "['2020/1/25', '0']\n",
            "11 lines of data\n",
            "['2020/1/26', '0']\n",
            "12 lines of data\n",
            "['2020/1/27', '0']\n",
            "13 lines of data\n",
            "['2020/1/28', '0']\n",
            "14 lines of data\n",
            "['2020/1/29', '0']\n",
            "15 lines of data\n",
            "['2020/1/30', '0']\n",
            "16 lines of data\n",
            "['2020/1/31', '0']\n",
            "17 lines of data\n",
            "['2020/2/1', '0']\n",
            "18 lines of data\n",
            "['2020/2/2', '0']\n",
            "19 lines of data\n",
            "['2020/2/3', '0']\n",
            "20 lines of data\n",
            "['2020/2/4', '0']\n",
            "21 lines of data\n",
            "['2020/2/5', '0']\n",
            "22 lines of data\n",
            "['2020/2/6', '0']\n",
            "23 lines of data\n",
            "['2020/2/7', '0']\n",
            "24 lines of data\n",
            "['2020/2/8', '0']\n",
            "25 lines of data\n",
            "['2020/2/9', '0']\n",
            "26 lines of data\n",
            "['2020/2/10', '0']\n",
            "27 lines of data\n",
            "['2020/2/11', '0']\n",
            "28 lines of data\n",
            "['2020/2/12', '0']\n",
            "29 lines of data\n",
            "['2020/2/13', '0']\n",
            "30 lines of data\n",
            "['2020/2/14', '0']\n",
            "31 lines of data\n",
            "['2020/2/15', '0']\n",
            "32 lines of data\n",
            "['2020/2/16', '0']\n",
            "33 lines of data\n",
            "['2020/2/17', '0']\n",
            "34 lines of data\n",
            "['2020/2/18', '0']\n",
            "35 lines of data\n",
            "['2020/2/19', '0']\n",
            "36 lines of data\n",
            "['2020/2/20', '0']\n",
            "37 lines of data\n",
            "['2020/2/21', '0']\n",
            "38 lines of data\n",
            "['2020/2/22', '0']\n",
            "39 lines of data\n",
            "['2020/2/23', '0']\n",
            "40 lines of data\n",
            "['2020/2/24', '0']\n",
            "41 lines of data\n",
            "['2020/2/25', '0']\n",
            "42 lines of data\n",
            "['2020/2/26', '0']\n",
            "43 lines of data\n",
            "['2020/2/27', '0']\n",
            "44 lines of data\n",
            "['2020/2/28', '0']\n",
            "45 lines of data\n",
            "['2020/2/29', '1']\n",
            "46 lines of data\n",
            "['2020/3/1', '1']\n",
            "47 lines of data\n",
            "['2020/3/2', '6']\n",
            "48 lines of data\n",
            "['2020/3/3', '7']\n",
            "49 lines of data\n",
            "['2020/3/4', '11']\n",
            "50 lines of data\n",
            "['2020/3/5', '12']\n",
            "51 lines of data\n",
            "['2020/3/6', '14']\n",
            "52 lines of data\n",
            "['2020/3/7', '17']\n",
            "53 lines of data\n",
            "['2020/3/8', '21']\n",
            "54 lines of data\n",
            "['2020/3/9', '22']\n",
            "55 lines of data\n",
            "['2020/3/10', '28']\n",
            "56 lines of data\n",
            "['2020/3/11', '32']\n",
            "57 lines of data\n",
            "['2020/3/12', '40']\n",
            "58 lines of data\n",
            "['2020/3/13', '48']\n",
            "59 lines of data\n",
            "['2020/3/14', '52']\n",
            "60 lines of data\n",
            "['2020/3/15', '60']\n",
            "61 lines of data\n",
            "['2020/3/16', '84']\n",
            "62 lines of data\n",
            "['2020/3/17', '107']\n",
            "63 lines of data\n",
            "['2020/3/18', '143']\n",
            "64 lines of data\n",
            "['2020/3/19', '208']\n",
            "65 lines of data\n",
            "['2020/3/20', '257']\n",
            "66 lines of data\n",
            "['2020/3/21', '317']\n",
            "67 lines of data\n",
            "['2020/3/22', '426']\n",
            "68 lines of data\n",
            "['2020/3/23', '551']\n",
            "69 lines of data\n",
            "['2020/3/24', '705']\n",
            "70 lines of data\n",
            "['2020/3/25', '941']\n",
            "71 lines of data\n",
            "['2020/3/26', '1208']\n",
            "72 lines of data\n",
            "['2020/3/27', '1578']\n",
            "73 lines of data\n",
            "['2020/3/28', '2178']\n",
            "74 lines of data\n",
            "['2020/3/29', '2562']\n",
            "75 lines of data\n",
            "['2020/3/30', '3099']\n",
            "76 lines of data\n",
            "['2020/3/31', '4034']\n",
            "77 lines of data\n",
            "['2020/4/1', '4989']\n",
            "78 lines of data\n",
            "['2020/4/2', '6288']\n",
            "79 lines of data\n",
            "['2020/4/3', '7743']\n",
            "80 lines of data\n",
            "['2020/4/4', '9129']\n",
            "81 lines of data\n",
            "['2020/4/5', '10408']\n",
            "82 lines of data\n",
            "['2020/4/6', '10780']\n",
            "83 lines of data\n",
            "['2020/4/7', '12718']\n",
            "84 lines of data\n",
            "['2020/4/8', '14691']\n",
            "85 lines of data\n",
            "['2020/4/9', '16474']\n",
            "86 lines of data\n",
            "['2020/4/10', '18578']\n",
            "87 lines of data\n"
          ],
          "name": "stdout"
        }
      ]
    },
    {
      "cell_type": "code",
      "metadata": {
        "id": "1N29nyJtsqYR",
        "colab_type": "code",
        "colab": {}
      },
      "source": [
        "# we look through the docs for read_csv and find the \"skip row\" parameter\n",
        "\n",
        "googleanalyticsdata = pd.read_csv('/content/gdrive/My Drive/death1.csv',skiprows = [0,1,2,3,4,5])\n"
      ],
      "execution_count": 0,
      "outputs": []
    },
    {
      "cell_type": "code",
      "metadata": {
        "id": "7JsvJw-OtCGz",
        "colab_type": "code",
        "outputId": "ab4f2259-665d-466f-e098-0d8f610a806e",
        "colab": {
          "base_uri": "https://localhost:8080/",
          "height": 204
        }
      },
      "source": [
        "googleanalyticsdata.tail()"
      ],
      "execution_count": 0,
      "outputs": [
        {
          "output_type": "execute_result",
          "data": {
            "text/html": [
              "<div>\n",
              "<style scoped>\n",
              "    .dataframe tbody tr th:only-of-type {\n",
              "        vertical-align: middle;\n",
              "    }\n",
              "\n",
              "    .dataframe tbody tr th {\n",
              "        vertical-align: top;\n",
              "    }\n",
              "\n",
              "    .dataframe thead th {\n",
              "        text-align: right;\n",
              "    }\n",
              "</style>\n",
              "<table border=\"1\" class=\"dataframe\">\n",
              "  <thead>\n",
              "    <tr style=\"text-align: right;\">\n",
              "      <th></th>\n",
              "      <th>Day Index</th>\n",
              "      <th>Num0fCase</th>\n",
              "    </tr>\n",
              "  </thead>\n",
              "  <tbody>\n",
              "    <tr>\n",
              "      <th>75</th>\n",
              "      <td>2020/4/6</td>\n",
              "      <td>10780</td>\n",
              "    </tr>\n",
              "    <tr>\n",
              "      <th>76</th>\n",
              "      <td>2020/4/7</td>\n",
              "      <td>12718</td>\n",
              "    </tr>\n",
              "    <tr>\n",
              "      <th>77</th>\n",
              "      <td>2020/4/8</td>\n",
              "      <td>14691</td>\n",
              "    </tr>\n",
              "    <tr>\n",
              "      <th>78</th>\n",
              "      <td>2020/4/9</td>\n",
              "      <td>16474</td>\n",
              "    </tr>\n",
              "    <tr>\n",
              "      <th>79</th>\n",
              "      <td>2020/4/10</td>\n",
              "      <td>18578</td>\n",
              "    </tr>\n",
              "  </tbody>\n",
              "</table>\n",
              "</div>"
            ],
            "text/plain": [
              "    Day Index  Num0fCase\n",
              "75   2020/4/6      10780\n",
              "76   2020/4/7      12718\n",
              "77   2020/4/8      14691\n",
              "78   2020/4/9      16474\n",
              "79  2020/4/10      18578"
            ]
          },
          "metadata": {
            "tags": []
          },
          "execution_count": 7
        }
      ]
    },
    {
      "cell_type": "code",
      "metadata": {
        "id": "GOS-p7c5vfC4",
        "colab_type": "code",
        "outputId": "b388c878-862b-44c5-c1ac-6e6fc4f12c87",
        "colab": {
          "base_uri": "https://localhost:8080/",
          "height": 102
        }
      },
      "source": [
        "# the data time for 'Day Index' is not a date time object!\n",
        "\n",
        "googleanalyticsdata['Day Index'].describe()"
      ],
      "execution_count": 0,
      "outputs": [
        {
          "output_type": "execute_result",
          "data": {
            "text/plain": [
              "count            80\n",
              "unique           80\n",
              "top       2020/1/26\n",
              "freq              1\n",
              "Name: Day Index, dtype: object"
            ]
          },
          "metadata": {
            "tags": []
          },
          "execution_count": 8
        }
      ]
    },
    {
      "cell_type": "code",
      "metadata": {
        "id": "CIUDfJrbwXfb",
        "colab_type": "code",
        "outputId": "7f49f37b-c787-4ec0-eeaf-ec9849876b18",
        "colab": {
          "base_uri": "https://localhost:8080/",
          "height": 204
        }
      },
      "source": [
        "googleanalyticsdata.tail()"
      ],
      "execution_count": 0,
      "outputs": [
        {
          "output_type": "execute_result",
          "data": {
            "text/html": [
              "<div>\n",
              "<style scoped>\n",
              "    .dataframe tbody tr th:only-of-type {\n",
              "        vertical-align: middle;\n",
              "    }\n",
              "\n",
              "    .dataframe tbody tr th {\n",
              "        vertical-align: top;\n",
              "    }\n",
              "\n",
              "    .dataframe thead th {\n",
              "        text-align: right;\n",
              "    }\n",
              "</style>\n",
              "<table border=\"1\" class=\"dataframe\">\n",
              "  <thead>\n",
              "    <tr style=\"text-align: right;\">\n",
              "      <th></th>\n",
              "      <th>Day Index</th>\n",
              "      <th>Num0fCase</th>\n",
              "    </tr>\n",
              "  </thead>\n",
              "  <tbody>\n",
              "    <tr>\n",
              "      <th>75</th>\n",
              "      <td>2020/4/6</td>\n",
              "      <td>10780</td>\n",
              "    </tr>\n",
              "    <tr>\n",
              "      <th>76</th>\n",
              "      <td>2020/4/7</td>\n",
              "      <td>12718</td>\n",
              "    </tr>\n",
              "    <tr>\n",
              "      <th>77</th>\n",
              "      <td>2020/4/8</td>\n",
              "      <td>14691</td>\n",
              "    </tr>\n",
              "    <tr>\n",
              "      <th>78</th>\n",
              "      <td>2020/4/9</td>\n",
              "      <td>16474</td>\n",
              "    </tr>\n",
              "    <tr>\n",
              "      <th>79</th>\n",
              "      <td>2020/4/10</td>\n",
              "      <td>18578</td>\n",
              "    </tr>\n",
              "  </tbody>\n",
              "</table>\n",
              "</div>"
            ],
            "text/plain": [
              "    Day Index  Num0fCase\n",
              "75   2020/4/6      10780\n",
              "76   2020/4/7      12718\n",
              "77   2020/4/8      14691\n",
              "78   2020/4/9      16474\n",
              "79  2020/4/10      18578"
            ]
          },
          "metadata": {
            "tags": []
          },
          "execution_count": 9
        }
      ]
    },
    {
      "cell_type": "code",
      "metadata": {
        "id": "8HrOM8TUwiqv",
        "colab_type": "code",
        "outputId": "922ce4db-6c17-4d4b-9b0f-1397e1cac54e",
        "colab": {
          "base_uri": "https://localhost:8080/",
          "height": 170
        }
      },
      "source": [
        "#let's get a sense of what the variation in the data is.\n",
        "#standard deviation is 83. Varies from 0 to 548.\n",
        "print(googleanalyticsdata['Num0fCase'].describe())"
      ],
      "execution_count": 0,
      "outputs": [
        {
          "output_type": "stream",
          "text": [
            "count       80.000000\n",
            "mean      1632.100000\n",
            "std       3988.160169\n",
            "min          0.000000\n",
            "25%          0.000000\n",
            "50%          3.500000\n",
            "75%        344.250000\n",
            "max      18578.000000\n",
            "Name: Num0fCase, dtype: float64\n"
          ],
          "name": "stdout"
        }
      ]
    },
    {
      "cell_type": "code",
      "metadata": {
        "id": "wEz67l2ow09s",
        "colab_type": "code",
        "outputId": "bc51b0cf-aae2-4dad-8281-347bdee69b43",
        "colab": {
          "base_uri": "https://localhost:8080/",
          "height": 285
        }
      },
      "source": [
        "pd.plotting.register_matplotlib_converters()\n",
        "sns.set(rc={'figure.figsize':(14,4)})\n",
        "googleanalyticsdata['Num0fCase'].plot(linewidth=0.75)"
      ],
      "execution_count": 0,
      "outputs": [
        {
          "output_type": "execute_result",
          "data": {
            "text/plain": [
              "<matplotlib.axes._subplots.AxesSubplot at 0x7f03f0ebef28>"
            ]
          },
          "metadata": {
            "tags": []
          },
          "execution_count": 11
        },
        {
          "output_type": "display_data",
          "data": {
            "image/png": "[encoded data removed]",
            "text/plain": [
              "<Figure size 1008x288 with 1 Axes>"
            ]
          },
          "metadata": {
            "tags": []
          }
        }
      ]
    },
    {
      "cell_type": "markdown",
      "metadata": {
        "id": "Hrdhje_SNzYI",
        "colab_type": "text"
      },
      "source": [
        "## Learning more about the time series(ADF/ACF/PACF)\n"
      ]
    },
    {
      "cell_type": "code",
      "metadata": {
        "id": "K5f2NuDOOtnm",
        "colab_type": "code",
        "outputId": "f5e82f49-053c-4bae-91ca-51e0a7a5fb0a",
        "colab": {
          "base_uri": "https://localhost:8080/",
          "height": 170
        }
      },
      "source": [
        "adf_test(googleanalyticsdata['Num0fCase'])"
      ],
      "execution_count": 0,
      "outputs": [
        {
          "output_type": "stream",
          "text": [
            "Results of Dickey-Fuller Test:\n",
            "Test Statistic                  1.861522\n",
            "p-value                         0.998464\n",
            "#Lags Used                     11.000000\n",
            "Number of Observations Used    68.000000\n",
            "Critical Value (1%)            -3.530399\n",
            "Critical Value (5%)            -2.905087\n",
            "Critical Value (10%)           -2.590001\n",
            "dtype: float64\n"
          ],
          "name": "stdout"
        }
      ]
    },
    {
      "cell_type": "code",
      "metadata": {
        "id": "Bq-VLdFQO0DW",
        "colab_type": "code",
        "outputId": "67c9be97-b06c-4603-9da7-e61a4794784f",
        "colab": {
          "base_uri": "https://localhost:8080/",
          "height": 551
        }
      },
      "source": [
        "plot_acf(googleanalyticsdata['Num0fCase'],lags=5)"
      ],
      "execution_count": 0,
      "outputs": [
        {
          "output_type": "execute_result",
          "data": {
            "image/png": "[encoded data removed]",
            "text/plain": [
              "<Figure size 1008x288 with 1 Axes>"
            ]
          },
          "metadata": {
            "tags": []
          },
          "execution_count": 52
        },
        {
          "output_type": "display_data",
          "data": {
            "image/png": "[encoded data removed]",
            "text/plain": [
              "<Figure size 1008x288 with 1 Axes>"
            ]
          },
          "metadata": {
            "tags": []
          }
        }
      ]
    },
    {
      "cell_type": "code",
      "metadata": {
        "id": "-EW6YRHlQJXw",
        "colab_type": "code",
        "outputId": "25618b64-74d7-4027-e81c-8a3dd908f8cf",
        "colab": {
          "base_uri": "https://localhost:8080/",
          "height": 551
        }
      },
      "source": [
        "plot_pacf(googleanalyticsdata['Num0fCase'],lags=5)"
      ],
      "execution_count": 0,
      "outputs": [
        {
          "output_type": "execute_result",
          "data": {
            "image/png": "[encoded data removed]",
            "text/plain": [
              "<Figure size 1008x288 with 1 Axes>"
            ]
          },
          "metadata": {
            "tags": []
          },
          "execution_count": 53
        },
        {
          "output_type": "display_data",
          "data": {
            "image/png": "[encoded data removed]",
            "text/plain": [
              "<Figure size 1008x288 with 1 Axes>"
            ]
          },
          "metadata": {
            "tags": []
          }
        }
      ]
    },
    {
      "cell_type": "markdown",
      "metadata": {
        "id": "yqaY5_IUTLtD",
        "colab_type": "text"
      },
      "source": [
        "## ARIMA Modeling"
      ]
    },
    {
      "cell_type": "code",
      "metadata": {
        "id": "nFe60k-2Iw30",
        "colab_type": "code",
        "colab": {}
      },
      "source": [
        "import matplotlib.pyplot as plt\n",
        "from statsmodels.tsa.arima_model import ARIMA"
      ],
      "execution_count": 0,
      "outputs": []
    },
    {
      "cell_type": "code",
      "metadata": {
        "id": "w6oefpGYJIEv",
        "colab_type": "code",
        "outputId": "58dd71ad-58ea-44fa-932b-c180a166bb46",
        "colab": {
          "base_uri": "https://localhost:8080/",
          "height": 442
        }
      },
      "source": [
        "model = ARIMA(googleanalyticsdata[\"Num0fCase\"],order=(1,2,1))\n",
        "model_fit = model.fit(disp=0)\n",
        "summary = model_fit.summary().as_text()\n",
        "for aline in summary.split(','):\n",
        "  print(aline)"
      ],
      "execution_count": 0,
      "outputs": [
        {
          "output_type": "stream",
          "text": [
            "                             ARIMA Model Results                              \n",
            "==============================================================================\n",
            "Dep. Variable:           D2.Num0fCase   No. Observations:                   78\n",
            "Model:                 ARIMA(1\n",
            " 2\n",
            " 1)   Log Likelihood                -524.893\n",
            "Method:                       css-mle   S.D. of innovations            202.151\n",
            "Date:                Tue\n",
            " 28 Apr 2020   AIC                           1057.786\n",
            "Time:                        06:26:26   BIC                           1067.213\n",
            "Sample:                             2   HQIC                          1061.560\n",
            "                                                                              \n",
            "======================================================================================\n",
            "                         coef    std err          z      P>|z|      [0.025      0.975]\n",
            "--------------------------------------------------------------------------------------\n",
            "const                 25.4956     12.715      2.005      0.049       0.576      50.416\n",
            "ar.L1.D2.Num0fCase     0.0082      0.199      0.041      0.967      -0.382       0.398\n",
            "ma.L1.D2.Num0fCase    -0.4555      0.166     -2.745      0.008      -0.781      -0.130\n",
            "                                    Roots                                    \n",
            "=============================================================================\n",
            "                  Real          Imaginary           Modulus         Frequency\n",
            "-----------------------------------------------------------------------------\n",
            "AR.1          122.5389           +0.0000j          122.5389            0.0000\n",
            "MA.1            2.1953           +0.0000j            2.1953            0.0000\n",
            "-----------------------------------------------------------------------------\n"
          ],
          "name": "stdout"
        }
      ]
    },
    {
      "cell_type": "code",
      "metadata": {
        "id": "D2eK7rYbKs5H",
        "colab_type": "code",
        "outputId": "7e65522a-3f6f-4552-9344-c2c1720c84ff",
        "colab": {
          "base_uri": "https://localhost:8080/",
          "height": 119
        }
      },
      "source": [
        "model_fit.resid.head()"
      ],
      "execution_count": 0,
      "outputs": [
        {
          "output_type": "execute_result",
          "data": {
            "text/plain": [
              "2   -25.495626\n",
              "3   -34.964497\n",
              "4   -40.681789\n",
              "5   -43.691078\n",
              "6   -45.161155\n",
              "dtype: float64"
            ]
          },
          "metadata": {
            "tags": []
          },
          "execution_count": 56
        }
      ]
    },
    {
      "cell_type": "code",
      "metadata": {
        "id": "wuCNRb6XKyv7",
        "colab_type": "code",
        "outputId": "618f779e-2678-4724-bc7a-b64892cb47db",
        "colab": {
          "base_uri": "https://localhost:8080/",
          "height": 285
        }
      },
      "source": [
        "residuals = pd.DataFrame(model_fit.resid)\n",
        "sns.distplot(residuals,hist=True,kde=True)"
      ],
      "execution_count": 0,
      "outputs": [
        {
          "output_type": "execute_result",
          "data": {
            "text/plain": [
              "<matplotlib.axes._subplots.AxesSubplot at 0x7f03ecfc1898>"
            ]
          },
          "metadata": {
            "tags": []
          },
          "execution_count": 57
        },
        {
          "output_type": "display_data",
          "data": {
            "image/png": "[encoded data removed]",
            "text/plain": [
              "<Figure size 1008x288 with 1 Axes>"
            ]
          },
          "metadata": {
            "tags": []
          }
        }
      ]
    },
    {
      "cell_type": "code",
      "metadata": {
        "id": "rp1Zn_1JLBtz",
        "colab_type": "code",
        "outputId": "17239f5a-5919-4e12-8c39-a0f15ac47f39",
        "colab": {
          "base_uri": "https://localhost:8080/",
          "height": 34
        }
      },
      "source": [
        "from statsmodels.stats.stattools import durbin_watson\n",
        "print(durbin_watson(residuals))"
      ],
      "execution_count": 0,
      "outputs": [
        {
          "output_type": "stream",
          "text": [
            "[1.9810218]\n"
          ],
          "name": "stdout"
        }
      ]
    },
    {
      "cell_type": "code",
      "metadata": {
        "id": "tsoOKNG-LzKa",
        "colab_type": "code",
        "outputId": "d5674e80-4dbf-4742-da15-9410dfa48fd9",
        "colab": {
          "base_uri": "https://localhost:8080/",
          "height": 51
        }
      },
      "source": [
        "#absolute value because we are not descriminating from being over or under on a prediction\n",
        "\n",
        "absresiduals =abs(residuals)\n",
        "print(np.mean(abs(residuals)))"
      ],
      "execution_count": 0,
      "outputs": [
        {
          "output_type": "stream",
          "text": [
            "0    96.51567\n",
            "dtype: float64\n"
          ],
          "name": "stdout"
        }
      ]
    },
    {
      "cell_type": "code",
      "metadata": {
        "id": "h5M1qjzIMFed",
        "colab_type": "code",
        "outputId": "d23c7aa8-f2f4-4aa8-f9f6-676b8f35d738",
        "colab": {
          "base_uri": "https://localhost:8080/",
          "height": 170
        }
      },
      "source": [
        "#let's get a sense of what the variation in the data is.\n",
        "#standard deviation is 83\n",
        "#we can predict within a half of a standard deviation,good.Nor great.\n",
        "print(googleanalyticsdata['Num0fCase'].describe())"
      ],
      "execution_count": 0,
      "outputs": [
        {
          "output_type": "stream",
          "text": [
            "count       80.000000\n",
            "mean      1632.100000\n",
            "std       3988.160169\n",
            "min          0.000000\n",
            "25%          0.000000\n",
            "50%          3.500000\n",
            "75%        344.250000\n",
            "max      18578.000000\n",
            "Name: Num0fCase, dtype: float64\n"
          ],
          "name": "stdout"
        }
      ]
    },
    {
      "cell_type": "code",
      "metadata": {
        "id": "sOvrFMGTMiNy",
        "colab_type": "code",
        "outputId": "1c0ea8d3-2715-4c8a-fb79-61d3efd3ce26",
        "colab": {
          "base_uri": "https://localhost:8080/",
          "height": 519
        }
      },
      "source": [
        "pd.plotting.register_matplotlib_converters()\n",
        "model_fit.plot_predict()"
      ],
      "execution_count": 0,
      "outputs": [
        {
          "output_type": "execute_result",
          "data": {
            "image/png": "[encoded data removed]",
            "text/plain": [
              "<Figure size 1008x288 with 1 Axes>"
            ]
          },
          "metadata": {
            "tags": []
          },
          "execution_count": 61
        },
        {
          "output_type": "display_data",
          "data": {
            "image/png": "[encoded data removed]",
            "text/plain": [
              "<Figure size 1008x288 with 1 Axes>"
            ]
          },
          "metadata": {
            "tags": []
          }
        }
      ]
    }
  ]
}