{
  "nbformat": 4,
  "nbformat_minor": 0,
  "metadata": {
    "colab": {
      "name": "COVID19_TS_all_can_Final.ipynb",
      "provenance": []
    },
    "kernelspec": {
      "name": "python3",
      "display_name": "Python 3"
    },
    "accelerator": "GPU"
  },
  "cells": [
    {
      "cell_type": "markdown",
      "metadata": {
        "id": "y52VwUVFoGIp",
        "colab_type": "text"
      },
      "source": [
        "## Loading,Inspecting Google Analytics Timeseries data\n"
      ]
    },
    {
      "cell_type": "code",
      "metadata": {
        "id": "3M2V1xzJmvdb",
        "colab_type": "code",
        "outputId": "787a77ea-d13f-45a8-d3c5-ebeb1380b2d0",
        "colab": {
          "base_uri": "https://localhost:8080/",
          "height": 85
        }
      },
      "source": [
        "from time import sleep\n",
        "import csv\n",
        "\n",
        "import pandas as pd\n",
        "from fbprophet import Prophet\n",
        "import numpy as np\n",
        "import pandas as pd\n",
        "\n",
        "import seaborn as sns\n",
        "\n",
        "from statsmodels.graphics.tsaplots import plot_pacf\n",
        "from statsmodels.graphics.tsaplots import plot_acf\n",
        "from statsmodels.tsa.stattools import adfuller\n",
        "\n"
      ],
      "execution_count": 0,
      "outputs": [
        {
          "output_type": "stream",
          "text": [
            "/usr/local/lib/python3.6/dist-packages/statsmodels/tools/_testing.py:19: FutureWarning:\n",
            "\n",
            "pandas.util.testing is deprecated. Use the functions in the public API at pandas.testing instead.\n",
            "\n"
          ],
          "name": "stderr"
        }
      ]
    },
    {
      "cell_type": "code",
      "metadata": {
        "id": "6a42QljeoQQv",
        "colab_type": "code",
        "colab": {}
      },
      "source": [
        "#source: https://www.analyticsvidya.com/blog/2018/09/non-stationary-time-series-python/\n",
        "\n",
        "def adf_test(timeseries):\n",
        "    #Perform Dickey-Fuller test:\n",
        "    print ('Results of Dickey-Fuller Test:')\n",
        "    dftest = adfuller(timeseries, autolag='AIC')\n",
        "    dfoutput = pd.Series(dftest[0:4], index=['Test Statistic','p-value','#Lags Used','Number of Observations Used'])\n",
        "    for key,value in dftest[4].items():\n",
        "       dfoutput['Critical Value (%s)'%key] = value\n",
        "    print (dfoutput)"
      ],
      "execution_count": 0,
      "outputs": []
    },
    {
      "cell_type": "code",
      "metadata": {
        "id": "v2VSLkxXokAz",
        "colab_type": "code",
        "outputId": "2e67fd16-d92a-4024-9326-27089e90c4d5",
        "colab": {
          "base_uri": "https://localhost:8080/",
          "height": 122
        }
      },
      "source": [
        "from google.colab import drive\n",
        "import pandas as pd\n",
        "import io\n",
        "drive.mount('/content/gdrive')\n",
        "from datetime import datetime\n"
      ],
      "execution_count": 0,
      "outputs": [
        {
          "output_type": "stream",
          "text": [
            "Go to this URL in a browser: https://accounts.google.com/o/oauth2/auth?client_id=947318989803-6bn6qk8qdgf4n4g3pfee6491hc0brc4i.apps.googleusercontent.com&redirect_uri=urn%3aietf%3awg%3aoauth%3a2.0%3aoob&response_type=code&scope=email%20https%3a%2f%2fwww.googleapis.com%2fauth%2fdocs.test%20https%3a%2f%2fwww.googleapis.com%2fauth%2fdrive%20https%3a%2f%2fwww.googleapis.com%2fauth%2fdrive.photos.readonly%20https%3a%2f%2fwww.googleapis.com%2fauth%2fpeopleapi.readonly\n",
            "\n",
            "Enter your authorization code:\n",
            "··········\n",
            "Mounted at /content/gdrive\n"
          ],
          "name": "stdout"
        }
      ]
    },
    {
      "cell_type": "code",
      "metadata": {
        "id": "56g7LXUgrBL9",
        "colab_type": "code",
        "colab": {}
      },
      "source": [
        "#if we try to lazy in google analytics csv exports,we run into trouble\n",
        "googleanalyticsdata = pd.read_csv('/content/gdrive/My Drive/us.csv')\n"
      ],
      "execution_count": 0,
      "outputs": []
    },
    {
      "cell_type": "code",
      "metadata": {
        "id": "4MhEea5RrZLQ",
        "colab_type": "code",
        "outputId": "19a37d03-0e65-4a29-9a6f-2f8806212e79",
        "colab": {
          "base_uri": "https://localhost:8080/",
          "height": 1000
        }
      },
      "source": [
        "#lets back up a step and print out the google analytics file,see if we can \n",
        "#locate the error.I am also goining to need to know how long the data is, as well\n",
        "\n",
        "count = 0 \n",
        "csvreader = csv.reader(open('/content/gdrive/My Drive/us.csv'))\n",
        "for aline in csvreader:\n",
        "  count += 1\n",
        "  print(aline)\n",
        "  print('%s lines of data' %count)"
      ],
      "execution_count": 0,
      "outputs": [
        {
          "output_type": "stream",
          "text": [
            "['# ----------------------------------------', '']\n",
            "1 lines of data\n",
            "['# All Web Site Data', '']\n",
            "2 lines of data\n",
            "['# Audience Overview', '']\n",
            "3 lines of data\n",
            "['# 20190815-20200328', '']\n",
            "4 lines of data\n",
            "['# ----------------------------------------', '']\n",
            "5 lines of data\n",
            "['', '']\n",
            "6 lines of data\n",
            "['Day Index', 'Num0fCase']\n",
            "7 lines of data\n",
            "['2020/1/22', '1']\n",
            "8 lines of data\n",
            "['2020/1/23', '1']\n",
            "9 lines of data\n",
            "['2020/1/24', '2']\n",
            "10 lines of data\n",
            "['2020/1/25', '2']\n",
            "11 lines of data\n",
            "['2020/1/26', '5']\n",
            "12 lines of data\n",
            "['2020/1/27', '5']\n",
            "13 lines of data\n",
            "['2020/1/28', '5']\n",
            "14 lines of data\n",
            "['2020/1/29', '5']\n",
            "15 lines of data\n",
            "['2020/1/30', '5']\n",
            "16 lines of data\n",
            "['2020/1/31', '7']\n",
            "17 lines of data\n",
            "['2020/2/1', '8']\n",
            "18 lines of data\n",
            "['2020/2/2', '8']\n",
            "19 lines of data\n",
            "['2020/2/3', '11']\n",
            "20 lines of data\n",
            "['2020/2/4', '11']\n",
            "21 lines of data\n",
            "['2020/2/5', '11']\n",
            "22 lines of data\n",
            "['2020/2/6', '11']\n",
            "23 lines of data\n",
            "['2020/2/7', '11']\n",
            "24 lines of data\n",
            "['2020/2/8', '11']\n",
            "25 lines of data\n",
            "['2020/2/9', '11']\n",
            "26 lines of data\n",
            "['2020/2/10', '11']\n",
            "27 lines of data\n",
            "['2020/2/11', '12']\n",
            "28 lines of data\n",
            "['2020/2/12', '12']\n",
            "29 lines of data\n",
            "['2020/2/13', '13']\n",
            "30 lines of data\n",
            "['2020/2/14', '13']\n",
            "31 lines of data\n",
            "['2020/2/15', '13']\n",
            "32 lines of data\n",
            "['2020/2/16', '13']\n",
            "33 lines of data\n",
            "['2020/2/17', '13']\n",
            "34 lines of data\n",
            "['2020/2/18', '13']\n",
            "35 lines of data\n",
            "['2020/2/19', '13']\n",
            "36 lines of data\n",
            "['2020/2/20', '13']\n",
            "37 lines of data\n",
            "['2020/2/21', '15']\n",
            "38 lines of data\n",
            "['2020/2/22', '15']\n",
            "39 lines of data\n",
            "['2020/2/23', '15']\n",
            "40 lines of data\n",
            "['2020/2/24', '15']\n",
            "41 lines of data\n",
            "['2020/2/25', '15']\n",
            "42 lines of data\n",
            "['2020/2/26', '15']\n",
            "43 lines of data\n",
            "['2020/2/27', '16']\n",
            "44 lines of data\n",
            "['2020/2/28', '16']\n",
            "45 lines of data\n",
            "['2020/2/29', '25']\n",
            "46 lines of data\n",
            "['2020/3/1', '31']\n",
            "47 lines of data\n",
            "['2020/3/2', '59']\n",
            "48 lines of data\n",
            "['2020/3/3', '80']\n",
            "49 lines of data\n",
            "['2020/3/4', '115']\n",
            "50 lines of data\n",
            "['2020/3/5', '184']\n",
            "51 lines of data\n",
            "['2020/3/6', '231']\n",
            "52 lines of data\n",
            "['2020/3/7', '353']\n",
            "53 lines of data\n",
            "['2020/3/8', '471']\n",
            "54 lines of data\n",
            "['2020/3/9', '536']\n",
            "55 lines of data\n",
            "['2020/3/10', '736']\n",
            "56 lines of data\n",
            "['2020/3/11', '1137']\n",
            "57 lines of data\n",
            "['2020/3/12', '1597']\n",
            "58 lines of data\n",
            "['2020/3/13', '2195']\n",
            "59 lines of data\n",
            "['2020/3/14', '2909']\n",
            "60 lines of data\n",
            "['2020/3/15', '2978']\n",
            "61 lines of data\n",
            "['2020/3/16', '4371']\n",
            "62 lines of data\n",
            "['2020/3/17', '6135']\n",
            "63 lines of data\n",
            "['2020/3/18', '8948']\n",
            "64 lines of data\n",
            "['2020/3/19', '14233']\n",
            "65 lines of data\n",
            "['2020/3/20', '19588']\n",
            "66 lines of data\n",
            "['2020/3/21', '25970']\n",
            "67 lines of data\n",
            "['2020/3/22', '33981']\n",
            "68 lines of data\n",
            "['2020/3/23', '44137']\n",
            "69 lines of data\n",
            "['2020/3/24', '54364']\n",
            "70 lines of data\n",
            "['2020/3/25', '66642']\n",
            "71 lines of data\n",
            "['2020/3/26', '84967']\n",
            "72 lines of data\n",
            "['2020/3/27', '103158']\n",
            "73 lines of data\n",
            "['2020/3/28', '123491']\n",
            "74 lines of data\n",
            "['2020/3/29', '143319']\n",
            "75 lines of data\n",
            "['2020/3/30', '164778']\n",
            "76 lines of data\n",
            "['2020/3/31', '192054']\n",
            "77 lines of data\n",
            "['2020/4/1', '218199']\n",
            "78 lines of data\n",
            "['2020/4/2', '249898']\n",
            "79 lines of data\n",
            "['2020/4/3', '283173']\n",
            "80 lines of data\n",
            "['2020/4/4', '317825']\n",
            "81 lines of data\n",
            "['2020/4/5', '347321']\n",
            "82 lines of data\n",
            "['2020/4/6', '377288']\n",
            "83 lines of data\n",
            "['2020/4/7', '408787']\n",
            "84 lines of data\n",
            "['2020/4/8', '443586']\n",
            "85 lines of data\n",
            "['2020/4/9', '477754']\n",
            "86 lines of data\n",
            "['2020/4/10', '514956']\n",
            "87 lines of data\n"
          ],
          "name": "stdout"
        }
      ]
    },
    {
      "cell_type": "code",
      "metadata": {
        "id": "1N29nyJtsqYR",
        "colab_type": "code",
        "colab": {}
      },
      "source": [
        "# we look through the docs for read_csv and find the \"skip row\" parameter\n",
        "\n",
        "googleanalyticsdata = pd.read_csv('/content/gdrive/My Drive/us.csv',skiprows = [0,1,2,3,4,5])\n"
      ],
      "execution_count": 0,
      "outputs": []
    },
    {
      "cell_type": "code",
      "metadata": {
        "id": "7JsvJw-OtCGz",
        "colab_type": "code",
        "outputId": "d996bf2e-eba7-4ab1-c232-881250de3a5c",
        "colab": {
          "base_uri": "https://localhost:8080/",
          "height": 204
        }
      },
      "source": [
        "googleanalyticsdata.tail()"
      ],
      "execution_count": 0,
      "outputs": [
        {
          "output_type": "execute_result",
          "data": {
            "text/html": [
              "<div>\n",
              "<style scoped>\n",
              "    .dataframe tbody tr th:only-of-type {\n",
              "        vertical-align: middle;\n",
              "    }\n",
              "\n",
              "    .dataframe tbody tr th {\n",
              "        vertical-align: top;\n",
              "    }\n",
              "\n",
              "    .dataframe thead th {\n",
              "        text-align: right;\n",
              "    }\n",
              "</style>\n",
              "<table border=\"1\" class=\"dataframe\">\n",
              "  <thead>\n",
              "    <tr style=\"text-align: right;\">\n",
              "      <th></th>\n",
              "      <th>Day Index</th>\n",
              "      <th>Num0fCase</th>\n",
              "    </tr>\n",
              "  </thead>\n",
              "  <tbody>\n",
              "    <tr>\n",
              "      <th>75</th>\n",
              "      <td>2020/4/6</td>\n",
              "      <td>377288</td>\n",
              "    </tr>\n",
              "    <tr>\n",
              "      <th>76</th>\n",
              "      <td>2020/4/7</td>\n",
              "      <td>408787</td>\n",
              "    </tr>\n",
              "    <tr>\n",
              "      <th>77</th>\n",
              "      <td>2020/4/8</td>\n",
              "      <td>443586</td>\n",
              "    </tr>\n",
              "    <tr>\n",
              "      <th>78</th>\n",
              "      <td>2020/4/9</td>\n",
              "      <td>477754</td>\n",
              "    </tr>\n",
              "    <tr>\n",
              "      <th>79</th>\n",
              "      <td>2020/4/10</td>\n",
              "      <td>514956</td>\n",
              "    </tr>\n",
              "  </tbody>\n",
              "</table>\n",
              "</div>"
            ],
            "text/plain": [
              "    Day Index  Num0fCase\n",
              "75   2020/4/6     377288\n",
              "76   2020/4/7     408787\n",
              "77   2020/4/8     443586\n",
              "78   2020/4/9     477754\n",
              "79  2020/4/10     514956"
            ]
          },
          "metadata": {
            "tags": []
          },
          "execution_count": 16
        }
      ]
    },
    {
      "cell_type": "code",
      "metadata": {
        "id": "GOS-p7c5vfC4",
        "colab_type": "code",
        "outputId": "127a1998-77cb-47a3-f3aa-1aac3ac61bf9",
        "colab": {
          "base_uri": "https://localhost:8080/",
          "height": 102
        }
      },
      "source": [
        "# the data time for 'Day Index' is not a date time object!\n",
        "\n",
        "googleanalyticsdata['Day Index'].describe()"
      ],
      "execution_count": 0,
      "outputs": [
        {
          "output_type": "execute_result",
          "data": {
            "text/plain": [
              "count            80\n",
              "unique           80\n",
              "top       2020/1/29\n",
              "freq              1\n",
              "Name: Day Index, dtype: object"
            ]
          },
          "metadata": {
            "tags": []
          },
          "execution_count": 17
        }
      ]
    },
    {
      "cell_type": "code",
      "metadata": {
        "id": "CIUDfJrbwXfb",
        "colab_type": "code",
        "outputId": "602bd4ce-fa45-4ca3-8d66-8b1e64f21530",
        "colab": {
          "base_uri": "https://localhost:8080/",
          "height": 204
        }
      },
      "source": [
        "googleanalyticsdata.tail()"
      ],
      "execution_count": 0,
      "outputs": [
        {
          "output_type": "execute_result",
          "data": {
            "text/html": [
              "<div>\n",
              "<style scoped>\n",
              "    .dataframe tbody tr th:only-of-type {\n",
              "        vertical-align: middle;\n",
              "    }\n",
              "\n",
              "    .dataframe tbody tr th {\n",
              "        vertical-align: top;\n",
              "    }\n",
              "\n",
              "    .dataframe thead th {\n",
              "        text-align: right;\n",
              "    }\n",
              "</style>\n",
              "<table border=\"1\" class=\"dataframe\">\n",
              "  <thead>\n",
              "    <tr style=\"text-align: right;\">\n",
              "      <th></th>\n",
              "      <th>Day Index</th>\n",
              "      <th>Num0fCase</th>\n",
              "    </tr>\n",
              "  </thead>\n",
              "  <tbody>\n",
              "    <tr>\n",
              "      <th>75</th>\n",
              "      <td>2020/4/6</td>\n",
              "      <td>377288</td>\n",
              "    </tr>\n",
              "    <tr>\n",
              "      <th>76</th>\n",
              "      <td>2020/4/7</td>\n",
              "      <td>408787</td>\n",
              "    </tr>\n",
              "    <tr>\n",
              "      <th>77</th>\n",
              "      <td>2020/4/8</td>\n",
              "      <td>443586</td>\n",
              "    </tr>\n",
              "    <tr>\n",
              "      <th>78</th>\n",
              "      <td>2020/4/9</td>\n",
              "      <td>477754</td>\n",
              "    </tr>\n",
              "    <tr>\n",
              "      <th>79</th>\n",
              "      <td>2020/4/10</td>\n",
              "      <td>514956</td>\n",
              "    </tr>\n",
              "  </tbody>\n",
              "</table>\n",
              "</div>"
            ],
            "text/plain": [
              "    Day Index  Num0fCase\n",
              "75   2020/4/6     377288\n",
              "76   2020/4/7     408787\n",
              "77   2020/4/8     443586\n",
              "78   2020/4/9     477754\n",
              "79  2020/4/10     514956"
            ]
          },
          "metadata": {
            "tags": []
          },
          "execution_count": 18
        }
      ]
    },
    {
      "cell_type": "code",
      "metadata": {
        "id": "8HrOM8TUwiqv",
        "colab_type": "code",
        "outputId": "083bfd04-18e7-4a97-fd5f-879db5c5ff59",
        "colab": {
          "base_uri": "https://localhost:8080/",
          "height": 170
        }
      },
      "source": [
        "#let's get a sense of what the variation in the data is.\n",
        "#standard deviation is 83. Varies from 0 to 548.\n",
        "print(googleanalyticsdata['Num0fCase'].describe())"
      ],
      "execution_count": 0,
      "outputs": [
        {
          "output_type": "stream",
          "text": [
            "count        80.000000\n",
            "mean      59286.900000\n",
            "std      126288.731035\n",
            "min           1.000000\n",
            "25%          11.750000\n",
            "50%          45.000000\n",
            "75%       27972.750000\n",
            "max      514956.000000\n",
            "Name: Num0fCase, dtype: float64\n"
          ],
          "name": "stdout"
        }
      ]
    },
    {
      "cell_type": "code",
      "metadata": {
        "id": "wEz67l2ow09s",
        "colab_type": "code",
        "outputId": "2f2b3ade-d85e-4456-83c0-69839638a7d0",
        "colab": {
          "base_uri": "https://localhost:8080/",
          "height": 285
        }
      },
      "source": [
        "pd.plotting.register_matplotlib_converters()\n",
        "sns.set(rc={'figure.figsize':(14,4)})\n",
        "googleanalyticsdata['Num0fCase'].plot(linewidth=0.75)"
      ],
      "execution_count": 0,
      "outputs": [
        {
          "output_type": "execute_result",
          "data": {
            "text/plain": [
              "<matplotlib.axes._subplots.AxesSubplot at 0x7fea3add65f8>"
            ]
          },
          "metadata": {
            "tags": []
          },
          "execution_count": 20
        },
        {
          "output_type": "display_data",
          "data": {
            "image/png": "[encoded data removed]",
            "text/plain": [
              "<Figure size 1008x288 with 1 Axes>"
            ]
          },
          "metadata": {
            "tags": []
          }
        }
      ]
    },
    {
      "cell_type": "markdown",
      "metadata": {
        "id": "Hrdhje_SNzYI",
        "colab_type": "text"
      },
      "source": [
        "## Learning more about the time series(ADF/ACF/PACF)\n",
        "\n"
      ]
    },
    {
      "cell_type": "code",
      "metadata": {
        "id": "K5f2NuDOOtnm",
        "colab_type": "code",
        "outputId": "ed056060-9f11-49ed-f150-afbad9bebffc",
        "colab": {
          "base_uri": "https://localhost:8080/",
          "height": 170
        }
      },
      "source": [
        "adf_test(googleanalyticsdata['Num0fCase'])"
      ],
      "execution_count": 0,
      "outputs": [
        {
          "output_type": "stream",
          "text": [
            "Results of Dickey-Fuller Test:\n",
            "Test Statistic                  1.796905\n",
            "p-value                         0.998343\n",
            "#Lags Used                     12.000000\n",
            "Number of Observations Used    67.000000\n",
            "Critical Value (1%)            -3.531955\n",
            "Critical Value (5%)            -2.905755\n",
            "Critical Value (10%)           -2.590357\n",
            "dtype: float64\n"
          ],
          "name": "stdout"
        }
      ]
    },
    {
      "cell_type": "code",
      "metadata": {
        "id": "Bq-VLdFQO0DW",
        "colab_type": "code",
        "outputId": "04d5c230-4944-47c7-dfea-742dd1db1402",
        "colab": {
          "base_uri": "https://localhost:8080/",
          "height": 551
        }
      },
      "source": [
        "plot_acf(googleanalyticsdata['Num0fCase'],lags=10)"
      ],
      "execution_count": 0,
      "outputs": [
        {
          "output_type": "execute_result",
          "data": {
            "image/png": "[encoded data removed]",
            "text/plain": [
              "<Figure size 1008x288 with 1 Axes>"
            ]
          },
          "metadata": {
            "tags": []
          },
          "execution_count": 32
        },
        {
          "output_type": "display_data",
          "data": {
            "image/png": "[encoded data removed]",
            "text/plain": [
              "<Figure size 1008x288 with 1 Axes>"
            ]
          },
          "metadata": {
            "tags": []
          }
        }
      ]
    },
    {
      "cell_type": "code",
      "metadata": {
        "id": "-EW6YRHlQJXw",
        "colab_type": "code",
        "outputId": "b80a0a23-c193-412a-a875-3d5e28eb4252",
        "colab": {
          "base_uri": "https://localhost:8080/",
          "height": 551
        }
      },
      "source": [
        "plot_pacf(googleanalyticsdata['Num0fCase'],lags=10)"
      ],
      "execution_count": 0,
      "outputs": [
        {
          "output_type": "execute_result",
          "data": {
            "image/png": "[encoded data removed]",
            "text/plain": [
              "<Figure size 1008x288 with 1 Axes>"
            ]
          },
          "metadata": {
            "tags": []
          },
          "execution_count": 33
        },
        {
          "output_type": "display_data",
          "data": {
            "image/png": "[encoded data removed]",
            "text/plain": [
              "<Figure size 1008x288 with 1 Axes>"
            ]
          },
          "metadata": {
            "tags": []
          }
        }
      ]
    },
    {
      "cell_type": "markdown",
      "metadata": {
        "id": "yqaY5_IUTLtD",
        "colab_type": "text"
      },
      "source": [
        "## ARIMA Modeling"
      ]
    },
    {
      "cell_type": "code",
      "metadata": {
        "id": "nFe60k-2Iw30",
        "colab_type": "code",
        "colab": {}
      },
      "source": [
        "import matplotlib.pyplot as plt\n",
        "from statsmodels.tsa.arima_model import ARIMA"
      ],
      "execution_count": 0,
      "outputs": []
    },
    {
      "cell_type": "markdown",
      "metadata": {
        "id": "s8unxWLQI69_",
        "colab_type": "text"
      },
      "source": [
        "Taking the parameters we learned from ADF,ACF,and PACF, let's try a model"
      ]
    },
    {
      "cell_type": "code",
      "metadata": {
        "id": "w6oefpGYJIEv",
        "colab_type": "code",
        "outputId": "d38adbb9-58e9-442f-9a0a-1263af73058b",
        "colab": {
          "base_uri": "https://localhost:8080/",
          "height": 782
        }
      },
      "source": [
        "model = ARIMA(googleanalyticsdata[\"Num0fCase\"],order=(1,2,1))\n",
        "model_fit = model.fit(disp=0)\n",
        "summary = model_fit.summary().as_text()\n",
        "for aline in summary.split(','):\n",
        "  print(aline)"
      ],
      "execution_count": 0,
      "outputs": [
        {
          "output_type": "stream",
          "text": [
            "                             ARIMA Model Results                              \n",
            "==============================================================================\n",
            "Dep. Variable:           D2.Num0fCase   No. Observations:                   78\n",
            "Model:                 ARIMA(1\n",
            " 2\n",
            " 1)   Log Likelihood                -854.292\n",
            "Method:                       css-mle   S.D. of innovations          13815.061\n",
            "Date:                Tue\n",
            " 28 Apr 2020   AIC                           1716.584\n",
            "Time:                        06:25:14   BIC                           1726.011\n",
            "Sample:                             2   HQIC                          1720.358\n",
            "                                                                              \n",
            "======================================================================================\n",
            "                         coef    std err          z      P>|z|      [0.025      0.975]\n",
            "--------------------------------------------------------------------------------------\n",
            "const               1.421e+04        nan        nan        nan         nan         nan\n",
            "ar.L1.D2.Num0fCase     1.0000        nan        nan        nan         nan         nan\n",
            "ma.L1.D2.Num0fCase    -1.0000        nan        nan        nan         nan         nan\n",
            "                                    Roots                                    \n",
            "=============================================================================\n",
            "                  Real          Imaginary           Modulus         Frequency\n",
            "-----------------------------------------------------------------------------\n",
            "AR.1            1.0000           +0.0000j            1.0000            0.0000\n",
            "MA.1            1.0000           +0.0000j            1.0000            0.0000\n",
            "-----------------------------------------------------------------------------\n"
          ],
          "name": "stdout"
        },
        {
          "output_type": "stream",
          "text": [
            "/usr/local/lib/python3.6/dist-packages/statsmodels/base/model.py:492: HessianInversionWarning:\n",
            "\n",
            "Inverting hessian failed, no bse or cov_params available\n",
            "\n",
            "/usr/local/lib/python3.6/dist-packages/statsmodels/tsa/arima_model.py:1441: RuntimeWarning:\n",
            "\n",
            "invalid value encountered in sqrt\n",
            "\n",
            "/usr/local/lib/python3.6/dist-packages/scipy/stats/_distn_infrastructure.py:903: RuntimeWarning:\n",
            "\n",
            "invalid value encountered in greater\n",
            "\n",
            "/usr/local/lib/python3.6/dist-packages/scipy/stats/_distn_infrastructure.py:903: RuntimeWarning:\n",
            "\n",
            "invalid value encountered in less\n",
            "\n",
            "/usr/local/lib/python3.6/dist-packages/scipy/stats/_distn_infrastructure.py:1912: RuntimeWarning:\n",
            "\n",
            "invalid value encountered in less_equal\n",
            "\n"
          ],
          "name": "stderr"
        }
      ]
    },
    {
      "cell_type": "markdown",
      "metadata": {
        "id": "C6T1LwOOJgjT",
        "colab_type": "text"
      },
      "source": [
        "This is a pretty good model! I notice that the 7 day AR lag is not signofocant,and in general we only want to build models that don't have unsignificant lags.We can't avoid intermediary in significant lags,but we can nuke the training ones. So I'll change AR here to 6"
      ]
    },
    {
      "cell_type": "code",
      "metadata": {
        "id": "WohHMIzpJ7Hg",
        "colab_type": "code",
        "outputId": "0350e698-4a9e-4e5d-a9f2-d35b91904d06",
        "colab": {
          "base_uri": "https://localhost:8080/",
          "height": 379
        }
      },
      "source": [
        "model = ARIMA(googleanalyticsdata[\"Num0fCase\"],order=(1,4,2))\n",
        "model_fit = model.fit(disp=0)\n",
        "summary = model_fit.summary().as_text()\n",
        "for aline in summary.split(','):\n",
        "  print(aline)"
      ],
      "execution_count": 0,
      "outputs": [
        {
          "output_type": "error",
          "ename": "ValueError",
          "evalue": "ignored",
          "traceback": [
            "\u001b[0;31m---------------------------------------------------------------------------\u001b[0m",
            "\u001b[0;31mValueError\u001b[0m                                Traceback (most recent call last)",
            "\u001b[0;32m<ipython-input-40-0bf23321b33a>\u001b[0m in \u001b[0;36m<module>\u001b[0;34m()\u001b[0m\n\u001b[0;32m----> 1\u001b[0;31m \u001b[0mmodel\u001b[0m \u001b[0;34m=\u001b[0m \u001b[0mARIMA\u001b[0m\u001b[0;34m(\u001b[0m\u001b[0mgoogleanalyticsdata\u001b[0m\u001b[0;34m[\u001b[0m\u001b[0;34m\"Num0fCase\"\u001b[0m\u001b[0;34m]\u001b[0m\u001b[0;34m,\u001b[0m\u001b[0morder\u001b[0m\u001b[0;34m=\u001b[0m\u001b[0;34m(\u001b[0m\u001b[0;36m1\u001b[0m\u001b[0;34m,\u001b[0m\u001b[0;36m4\u001b[0m\u001b[0;34m,\u001b[0m\u001b[0;36m2\u001b[0m\u001b[0;34m)\u001b[0m\u001b[0;34m)\u001b[0m\u001b[0;34m\u001b[0m\u001b[0;34m\u001b[0m\u001b[0m\n\u001b[0m\u001b[1;32m      2\u001b[0m \u001b[0mmodel_fit\u001b[0m \u001b[0;34m=\u001b[0m \u001b[0mmodel\u001b[0m\u001b[0;34m.\u001b[0m\u001b[0mfit\u001b[0m\u001b[0;34m(\u001b[0m\u001b[0mdisp\u001b[0m\u001b[0;34m=\u001b[0m\u001b[0;36m0\u001b[0m\u001b[0;34m)\u001b[0m\u001b[0;34m\u001b[0m\u001b[0;34m\u001b[0m\u001b[0m\n\u001b[1;32m      3\u001b[0m \u001b[0msummary\u001b[0m \u001b[0;34m=\u001b[0m \u001b[0mmodel_fit\u001b[0m\u001b[0;34m.\u001b[0m\u001b[0msummary\u001b[0m\u001b[0;34m(\u001b[0m\u001b[0;34m)\u001b[0m\u001b[0;34m.\u001b[0m\u001b[0mas_text\u001b[0m\u001b[0;34m(\u001b[0m\u001b[0;34m)\u001b[0m\u001b[0;34m\u001b[0m\u001b[0;34m\u001b[0m\u001b[0m\n\u001b[1;32m      4\u001b[0m \u001b[0;32mfor\u001b[0m \u001b[0maline\u001b[0m \u001b[0;32min\u001b[0m \u001b[0msummary\u001b[0m\u001b[0;34m.\u001b[0m\u001b[0msplit\u001b[0m\u001b[0;34m(\u001b[0m\u001b[0;34m','\u001b[0m\u001b[0;34m)\u001b[0m\u001b[0;34m:\u001b[0m\u001b[0;34m\u001b[0m\u001b[0;34m\u001b[0m\u001b[0m\n\u001b[1;32m      5\u001b[0m   \u001b[0mprint\u001b[0m\u001b[0;34m(\u001b[0m\u001b[0maline\u001b[0m\u001b[0;34m)\u001b[0m\u001b[0;34m\u001b[0m\u001b[0;34m\u001b[0m\u001b[0m\n",
            "\u001b[0;32m/usr/local/lib/python3.6/dist-packages/statsmodels/tsa/arima_model.py\u001b[0m in \u001b[0;36m__new__\u001b[0;34m(cls, endog, order, exog, dates, freq, missing)\u001b[0m\n\u001b[1;32m    986\u001b[0m         \u001b[0;32melse\u001b[0m\u001b[0;34m:\u001b[0m\u001b[0;34m\u001b[0m\u001b[0;34m\u001b[0m\u001b[0m\n\u001b[1;32m    987\u001b[0m             \u001b[0mmod\u001b[0m \u001b[0;34m=\u001b[0m \u001b[0msuper\u001b[0m\u001b[0;34m(\u001b[0m\u001b[0mARIMA\u001b[0m\u001b[0;34m,\u001b[0m \u001b[0mcls\u001b[0m\u001b[0;34m)\u001b[0m\u001b[0;34m.\u001b[0m\u001b[0m__new__\u001b[0m\u001b[0;34m(\u001b[0m\u001b[0mcls\u001b[0m\u001b[0;34m)\u001b[0m\u001b[0;34m\u001b[0m\u001b[0;34m\u001b[0m\u001b[0m\n\u001b[0;32m--> 988\u001b[0;31m             \u001b[0mmod\u001b[0m\u001b[0;34m.\u001b[0m\u001b[0m__init__\u001b[0m\u001b[0;34m(\u001b[0m\u001b[0mendog\u001b[0m\u001b[0;34m,\u001b[0m \u001b[0morder\u001b[0m\u001b[0;34m,\u001b[0m \u001b[0mexog\u001b[0m\u001b[0;34m,\u001b[0m \u001b[0mdates\u001b[0m\u001b[0;34m,\u001b[0m \u001b[0mfreq\u001b[0m\u001b[0;34m,\u001b[0m \u001b[0mmissing\u001b[0m\u001b[0;34m)\u001b[0m\u001b[0;34m\u001b[0m\u001b[0;34m\u001b[0m\u001b[0m\n\u001b[0m\u001b[1;32m    989\u001b[0m             \u001b[0;32mreturn\u001b[0m \u001b[0mmod\u001b[0m\u001b[0;34m\u001b[0m\u001b[0;34m\u001b[0m\u001b[0m\n\u001b[1;32m    990\u001b[0m \u001b[0;34m\u001b[0m\u001b[0m\n",
            "\u001b[0;32m/usr/local/lib/python3.6/dist-packages/statsmodels/tsa/arima_model.py\u001b[0m in \u001b[0;36m__init__\u001b[0;34m(self, endog, order, exog, dates, freq, missing)\u001b[0m\n\u001b[1;32m   1004\u001b[0m             \u001b[0;31m#NOTE: to make more general, need to address the d == 2 stuff\u001b[0m\u001b[0;34m\u001b[0m\u001b[0;34m\u001b[0m\u001b[0;34m\u001b[0m\u001b[0m\n\u001b[1;32m   1005\u001b[0m             \u001b[0;31m# in the predict method\u001b[0m\u001b[0;34m\u001b[0m\u001b[0;34m\u001b[0m\u001b[0;34m\u001b[0m\u001b[0m\n\u001b[0;32m-> 1006\u001b[0;31m             \u001b[0;32mraise\u001b[0m \u001b[0mValueError\u001b[0m\u001b[0;34m(\u001b[0m\u001b[0;34m\"d > 2 is not supported\"\u001b[0m\u001b[0;34m)\u001b[0m\u001b[0;34m\u001b[0m\u001b[0;34m\u001b[0m\u001b[0m\n\u001b[0m\u001b[1;32m   1007\u001b[0m         \u001b[0msuper\u001b[0m\u001b[0;34m(\u001b[0m\u001b[0mARIMA\u001b[0m\u001b[0;34m,\u001b[0m \u001b[0mself\u001b[0m\u001b[0;34m)\u001b[0m\u001b[0;34m.\u001b[0m\u001b[0m__init__\u001b[0m\u001b[0;34m(\u001b[0m\u001b[0mendog\u001b[0m\u001b[0;34m,\u001b[0m \u001b[0;34m(\u001b[0m\u001b[0mp\u001b[0m\u001b[0;34m,\u001b[0m \u001b[0mq\u001b[0m\u001b[0;34m)\u001b[0m\u001b[0;34m,\u001b[0m \u001b[0mexog\u001b[0m\u001b[0;34m,\u001b[0m \u001b[0mdates\u001b[0m\u001b[0;34m,\u001b[0m \u001b[0mfreq\u001b[0m\u001b[0;34m,\u001b[0m \u001b[0mmissing\u001b[0m\u001b[0;34m)\u001b[0m\u001b[0;34m\u001b[0m\u001b[0;34m\u001b[0m\u001b[0m\n\u001b[1;32m   1008\u001b[0m         \u001b[0mself\u001b[0m\u001b[0;34m.\u001b[0m\u001b[0mk_diff\u001b[0m \u001b[0;34m=\u001b[0m \u001b[0md\u001b[0m\u001b[0;34m\u001b[0m\u001b[0;34m\u001b[0m\u001b[0m\n",
            "\u001b[0;31mValueError\u001b[0m: d > 2 is not supported"
          ]
        }
      ]
    },
    {
      "cell_type": "code",
      "metadata": {
        "id": "D2eK7rYbKs5H",
        "colab_type": "code",
        "outputId": "5093fc5f-b9c2-4cd5-8618-e38fbc38c9ab",
        "colab": {
          "base_uri": "https://localhost:8080/",
          "height": 119
        }
      },
      "source": [
        "model_fit.resid.head()"
      ],
      "execution_count": 0,
      "outputs": [
        {
          "output_type": "execute_result",
          "data": {
            "text/plain": [
              "2   -14204.401928\n",
              "3   -14206.625445\n",
              "4   -14202.848993\n",
              "5   -14209.072478\n",
              "6   -14206.296057\n",
              "dtype: float64"
            ]
          },
          "metadata": {
            "tags": []
          },
          "execution_count": 41
        }
      ]
    },
    {
      "cell_type": "code",
      "metadata": {
        "id": "wuCNRb6XKyv7",
        "colab_type": "code",
        "outputId": "a2990bde-11ab-4a67-837f-6ffea16783bf",
        "colab": {
          "base_uri": "https://localhost:8080/",
          "height": 285
        }
      },
      "source": [
        "residuals = pd.DataFrame(model_fit.resid)\n",
        "sns.distplot(residuals,hist=True,kde=True)"
      ],
      "execution_count": 0,
      "outputs": [
        {
          "output_type": "execute_result",
          "data": {
            "text/plain": [
              "<matplotlib.axes._subplots.AxesSubplot at 0x7fea37dbe048>"
            ]
          },
          "metadata": {
            "tags": []
          },
          "execution_count": 42
        },
        {
          "output_type": "display_data",
          "data": {
            "image/png": "[encoded data removed]",
            "text/plain": [
              "<Figure size 1008x288 with 1 Axes>"
            ]
          },
          "metadata": {
            "tags": []
          }
        }
      ]
    },
    {
      "cell_type": "code",
      "metadata": {
        "id": "rp1Zn_1JLBtz",
        "colab_type": "code",
        "outputId": "433cf8be-29f1-4167-88bd-7b2473303185",
        "colab": {
          "base_uri": "https://localhost:8080/",
          "height": 34
        }
      },
      "source": [
        "from statsmodels.stats.stattools import durbin_watson\n",
        "print(durbin_watson(residuals))"
      ],
      "execution_count": 0,
      "outputs": [
        {
          "output_type": "stream",
          "text": [
            "[0.02204753]\n"
          ],
          "name": "stdout"
        }
      ]
    },
    {
      "cell_type": "markdown",
      "metadata": {
        "id": "pD78mnJwLOSU",
        "colab_type": "text"
      },
      "source": [
        "It's always a good idea to inspect the distribution of the residuals(error).We're looking for a normal distribution.This suggests the model isn't biased in particular ways,eg,that it consistently under or over predicts.We want the error to be normal,nor biased.\n",
        "\n",
        "Next,let's caculate a quick and diectly residual error.That is,how far off are we on a given prediction,on average?\n"
      ]
    },
    {
      "cell_type": "code",
      "metadata": {
        "id": "tsoOKNG-LzKa",
        "colab_type": "code",
        "outputId": "d0acad47-29db-4181-b91f-b1d373bcd5e6",
        "colab": {
          "base_uri": "https://localhost:8080/",
          "height": 51
        }
      },
      "source": [
        "#absolute value because we are not descriminating from being over or under on a prediction\n",
        "\n",
        "absresiduals =abs(residuals)\n",
        "print(np.mean(abs(residuals)))"
      ],
      "execution_count": 0,
      "outputs": [
        {
          "output_type": "stream",
          "text": [
            "0    13736.96274\n",
            "dtype: float64\n"
          ],
          "name": "stdout"
        }
      ]
    },
    {
      "cell_type": "code",
      "metadata": {
        "id": "h5M1qjzIMFed",
        "colab_type": "code",
        "outputId": "c7f1d7b8-08c7-4976-c4a5-dc0059a0d6d0",
        "colab": {
          "base_uri": "https://localhost:8080/",
          "height": 170
        }
      },
      "source": [
        "#let's get a sense of what the variation in the data is.\n",
        "#standard deviation is 83\n",
        "#we can predict within a half of a standard deviation,good.Nor great.\n",
        "print(googleanalyticsdata['Num0fCase'].describe())"
      ],
      "execution_count": 0,
      "outputs": [
        {
          "output_type": "stream",
          "text": [
            "count        80.000000\n",
            "mean      59286.900000\n",
            "std      126288.731035\n",
            "min           1.000000\n",
            "25%          11.750000\n",
            "50%          45.000000\n",
            "75%       27972.750000\n",
            "max      514956.000000\n",
            "Name: Num0fCase, dtype: float64\n"
          ],
          "name": "stdout"
        }
      ]
    },
    {
      "cell_type": "markdown",
      "metadata": {
        "id": "YVTj_2OGMXDF",
        "colab_type": "text"
      },
      "source": [
        "Finally,let's see how this thing actually does when we ask it to recreate timeseries with only the first value"
      ]
    },
    {
      "cell_type": "code",
      "metadata": {
        "id": "sOvrFMGTMiNy",
        "colab_type": "code",
        "outputId": "af8dd88d-e91a-4217-f5b5-5fc4483c3296",
        "colab": {
          "base_uri": "https://localhost:8080/",
          "height": 519
        }
      },
      "source": [
        "pd.plotting.register_matplotlib_converters()\n",
        "model_fit.plot_predict()"
      ],
      "execution_count": 0,
      "outputs": [
        {
          "output_type": "execute_result",
          "data": {
            "image/png": "[encoded data removed]",
            "text/plain": [
              "<Figure size 1008x288 with 1 Axes>"
            ]
          },
          "metadata": {
            "tags": []
          },
          "execution_count": 46
        },
        {
          "output_type": "display_data",
          "data": {
            "image/png": "[encoded data removed]",
            "text/plain": [
              "<Figure size 1008x288 with 1 Axes>"
            ]
          },
          "metadata": {
            "tags": []
          }
        }
      ]
    }
  ]
}
