{
  "nbformat": 4,
  "nbformat_minor": 0,
  "metadata": {
    "colab": {
      "name": "COVID19-TS-con-final-can",
      "provenance": []
    },
    "kernelspec": {
      "name": "python3",
      "display_name": "Python 3"
    },
    "accelerator": "GPU"
  },
  "cells": [
    {
      "cell_type": "markdown",
      "metadata": {
        "id": "y52VwUVFoGIp",
        "colab_type": "text"
      },
      "source": [
        "## Loading,Inspecting Google Analytics Timeseries data\n"
      ]
    },
    {
      "cell_type": "code",
      "metadata": {
        "id": "3M2V1xzJmvdb",
        "colab_type": "code",
        "colab": {}
      },
      "source": [
        "from time import sleep\n",
        "import csv\n",
        "\n",
        "import pandas as pd\n",
        "from fbprophet import Prophet\n",
        "import numpy as np\n",
        "import pandas as pd\n",
        "\n",
        "import seaborn as sns\n",
        "\n",
        "from statsmodels.graphics.tsaplots import plot_pacf\n",
        "from statsmodels.graphics.tsaplots import plot_acf\n",
        "from statsmodels.tsa.stattools import adfuller\n",
        "\n"
      ],
      "execution_count": 0,
      "outputs": []
    },
    {
      "cell_type": "code",
      "metadata": {
        "id": "6a42QljeoQQv",
        "colab_type": "code",
        "colab": {}
      },
      "source": [
        "#source: https://www.analyticsvidya.com/blog/2018/09/non-stationary-time-series-python/\n",
        "\n",
        "def adf_test(timeseries):\n",
        "    #Perform Dickey-Fuller test:\n",
        "    print ('Results of Dickey-Fuller Test:')\n",
        "    dftest = adfuller(timeseries, autolag='AIC')\n",
        "    dfoutput = pd.Series(dftest[0:4], index=['Test Statistic','p-value','#Lags Used','Number of Observations Used'])\n",
        "    for key,value in dftest[4].items():\n",
        "       dfoutput['Critical Value (%s)'%key] = value\n",
        "    print (dfoutput)"
      ],
      "execution_count": 0,
      "outputs": []
    },
    {
      "cell_type": "code",
      "metadata": {
        "id": "v2VSLkxXokAz",
        "colab_type": "code",
        "outputId": "f98d6386-47dd-40b4-a1d9-861e641b649c",
        "colab": {
          "base_uri": "https://localhost:8080/",
          "height": 34
        }
      },
      "source": [
        "from google.colab import drive\n",
        "import pandas as pd\n",
        "import io\n",
        "drive.mount('/content/gdrive')\n",
        "from datetime import datetime\n"
      ],
      "execution_count": 0,
      "outputs": [
        {
          "output_type": "stream",
          "text": [
            "Drive already mounted at /content/gdrive; to attempt to forcibly remount, call drive.mount(\"/content/gdrive\", force_remount=True).\n"
          ],
          "name": "stdout"
        }
      ]
    },
    {
      "cell_type": "code",
      "metadata": {
        "id": "56g7LXUgrBL9",
        "colab_type": "code",
        "colab": {}
      },
      "source": [
        "#if we try to lazy in google analytics csv exports,we run into trouble\n",
        "googleanalyticsdata = pd.read_csv('/content/gdrive/My Drive/con1.csv')\n"
      ],
      "execution_count": 0,
      "outputs": []
    },
    {
      "cell_type": "code",
      "metadata": {
        "id": "4MhEea5RrZLQ",
        "colab_type": "code",
        "outputId": "6566ad0c-9548-41c6-d257-da5d30b70203",
        "colab": {
          "base_uri": "https://localhost:8080/",
          "height": 1000
        }
      },
      "source": [
        "#lets back up a step and print out the google analytics file,see if we can \n",
        "#locate the error.I am also goining to need to know how long the data is, as well\n",
        "\n",
        "count = 0 \n",
        "csvreader = csv.reader(open('/content/gdrive/My Drive/con1.csv'))\n",
        "for aline in csvreader:\n",
        "  count += 1\n",
        "  print(aline)\n",
        "  print('%s lines of data' %count)"
      ],
      "execution_count": 0,
      "outputs": [
        {
          "output_type": "stream",
          "text": [
            "['# ----------------------------------------', '']\n",
            "1 lines of data\n",
            "['# All Web Site Data', '']\n",
            "2 lines of data\n",
            "['# Audience Overview', '']\n",
            "3 lines of data\n",
            "['# 20190815-20200328', '']\n",
            "4 lines of data\n",
            "['# ----------------------------------------', '']\n",
            "5 lines of data\n",
            "['', '']\n",
            "6 lines of data\n",
            "['Day Index', 'Num0fCase']\n",
            "7 lines of data\n",
            "['2020/1/22', '1']\n",
            "8 lines of data\n",
            "['2020/1/23', '1']\n",
            "9 lines of data\n",
            "['2020/1/24', '2']\n",
            "10 lines of data\n",
            "['2020/1/25', '2']\n",
            "11 lines of data\n",
            "['2020/1/26', '5']\n",
            "12 lines of data\n",
            "['2020/1/27', '5']\n",
            "13 lines of data\n",
            "['2020/1/28', '5']\n",
            "14 lines of data\n",
            "['2020/1/29', '5']\n",
            "15 lines of data\n",
            "['2020/1/30', '5']\n",
            "16 lines of data\n",
            "['2020/1/31', '7']\n",
            "17 lines of data\n",
            "['2020/2/1', '8']\n",
            "18 lines of data\n",
            "['2020/2/2', '8']\n",
            "19 lines of data\n",
            "['2020/2/3', '11']\n",
            "20 lines of data\n",
            "['2020/2/4', '11']\n",
            "21 lines of data\n",
            "['2020/2/5', '11']\n",
            "22 lines of data\n",
            "['2020/2/6', '11']\n",
            "23 lines of data\n",
            "['2020/2/7', '11']\n",
            "24 lines of data\n",
            "['2020/2/8', '11']\n",
            "25 lines of data\n",
            "['2020/2/9', '11']\n",
            "26 lines of data\n",
            "['2020/2/10', '11']\n",
            "27 lines of data\n",
            "['2020/2/11', '12']\n",
            "28 lines of data\n",
            "['2020/2/12', '12']\n",
            "29 lines of data\n",
            "['2020/2/13', '13']\n",
            "30 lines of data\n",
            "['2020/2/14', '13']\n",
            "31 lines of data\n",
            "['2020/2/15', '13']\n",
            "32 lines of data\n",
            "['2020/2/16', '13']\n",
            "33 lines of data\n",
            "['2020/2/17', '13']\n",
            "34 lines of data\n",
            "['2020/2/18', '13']\n",
            "35 lines of data\n",
            "['2020/2/19', '13']\n",
            "36 lines of data\n",
            "['2020/2/20', '13']\n",
            "37 lines of data\n",
            "['2020/2/21', '15']\n",
            "38 lines of data\n",
            "['2020/2/22', '15']\n",
            "39 lines of data\n",
            "['2020/2/23', '15']\n",
            "40 lines of data\n",
            "['2020/2/24', '15']\n",
            "41 lines of data\n",
            "['2020/2/25', '15']\n",
            "42 lines of data\n",
            "['2020/2/26', '15']\n",
            "43 lines of data\n",
            "['2020/2/27', '16']\n",
            "44 lines of data\n",
            "['2020/2/28', '16']\n",
            "45 lines of data\n",
            "['2020/2/29', '24']\n",
            "46 lines of data\n",
            "['2020/3/1', '30']\n",
            "47 lines of data\n",
            "['2020/3/2', '53']\n",
            "48 lines of data\n",
            "['2020/3/3', '73']\n",
            "49 lines of data\n",
            "['2020/3/4', '104']\n",
            "50 lines of data\n",
            "['2020/3/5', '172']\n",
            "51 lines of data\n",
            "['2020/3/6', '217']\n",
            "52 lines of data\n",
            "['2020/3/7', '336']\n",
            "53 lines of data\n",
            "['2020/3/8', '450']\n",
            "54 lines of data\n",
            "['2020/3/9', '514']\n",
            "55 lines of data\n",
            "['2020/3/10', '708']\n",
            "56 lines of data\n",
            "['2020/3/11', '1105']\n",
            "57 lines of data\n",
            "['2020/3/12', '1557']\n",
            "58 lines of data\n",
            "['2020/3/13', '2147']\n",
            "59 lines of data\n",
            "['2020/3/14', '2857']\n",
            "60 lines of data\n",
            "['2020/3/15', '2918']\n",
            "61 lines of data\n",
            "['2020/3/16', '4287']\n",
            "62 lines of data\n",
            "['2020/3/17', '6028']\n",
            "63 lines of data\n",
            "['2020/3/18', '8805']\n",
            "64 lines of data\n",
            "['2020/3/19', '14025']\n",
            "65 lines of data\n",
            "['2020/3/20', '19331']\n",
            "66 lines of data\n",
            "['2020/3/21', '25653']\n",
            "67 lines of data\n",
            "['2020/3/22', '33555']\n",
            "68 lines of data\n",
            "['2020/3/23', '43586']\n",
            "69 lines of data\n",
            "['2020/3/24', '53659']\n",
            "70 lines of data\n",
            "['2020/3/25', '65701']\n",
            "71 lines of data\n",
            "['2020/3/26', '83759']\n",
            "72 lines of data\n",
            "['2020/3/27', '101580']\n",
            "73 lines of data\n",
            "['2020/3/28', '121313']\n",
            "74 lines of data\n",
            "['2020/3/29', '140757']\n",
            "75 lines of data\n",
            "['2020/3/30', '161679']\n",
            "76 lines of data\n",
            "['2020/3/31', '188020']\n",
            "77 lines of data\n",
            "['2020/4/1', '213210']\n",
            "78 lines of data\n",
            "['2020/4/2', '243610']\n",
            "79 lines of data\n",
            "['2020/4/3', '275430']\n",
            "80 lines of data\n",
            "['2020/4/4', '308696']\n",
            "81 lines of data\n",
            "['2020/4/5', '336913']\n",
            "82 lines of data\n",
            "['2020/4/6', '366508']\n",
            "83 lines of data\n",
            "['2020/4/7', '396069']\n",
            "84 lines of data\n",
            "['2020/4/8', '428895']\n",
            "85 lines of data\n",
            "['2020/4/9', '461280']\n",
            "86 lines of data\n",
            "['2020/4/10', '496378']\n",
            "87 lines of data\n"
          ],
          "name": "stdout"
        }
      ]
    },
    {
      "cell_type": "code",
      "metadata": {
        "id": "1N29nyJtsqYR",
        "colab_type": "code",
        "colab": {}
      },
      "source": [
        "# we look through the docs for read_csv and find the \"skip row\" parameter\n",
        "\n",
        "googleanalyticsdata = pd.read_csv('/content/gdrive/My Drive/con1.csv',skiprows = [0,1,2,3,4,5])\n"
      ],
      "execution_count": 0,
      "outputs": []
    },
    {
      "cell_type": "code",
      "metadata": {
        "id": "7JsvJw-OtCGz",
        "colab_type": "code",
        "outputId": "77f7db0a-7010-47ea-f666-398a147a12a0",
        "colab": {
          "base_uri": "https://localhost:8080/",
          "height": 204
        }
      },
      "source": [
        "googleanalyticsdata.tail()"
      ],
      "execution_count": 0,
      "outputs": [
        {
          "output_type": "execute_result",
          "data": {
            "text/html": [
              "<div>\n",
              "<style scoped>\n",
              "    .dataframe tbody tr th:only-of-type {\n",
              "        vertical-align: middle;\n",
              "    }\n",
              "\n",
              "    .dataframe tbody tr th {\n",
              "        vertical-align: top;\n",
              "    }\n",
              "\n",
              "    .dataframe thead th {\n",
              "        text-align: right;\n",
              "    }\n",
              "</style>\n",
              "<table border=\"1\" class=\"dataframe\">\n",
              "  <thead>\n",
              "    <tr style=\"text-align: right;\">\n",
              "      <th></th>\n",
              "      <th>Day Index</th>\n",
              "      <th>Num0fCase</th>\n",
              "    </tr>\n",
              "  </thead>\n",
              "  <tbody>\n",
              "    <tr>\n",
              "      <th>75</th>\n",
              "      <td>2020/4/6</td>\n",
              "      <td>366508</td>\n",
              "    </tr>\n",
              "    <tr>\n",
              "      <th>76</th>\n",
              "      <td>2020/4/7</td>\n",
              "      <td>396069</td>\n",
              "    </tr>\n",
              "    <tr>\n",
              "      <th>77</th>\n",
              "      <td>2020/4/8</td>\n",
              "      <td>428895</td>\n",
              "    </tr>\n",
              "    <tr>\n",
              "      <th>78</th>\n",
              "      <td>2020/4/9</td>\n",
              "      <td>461280</td>\n",
              "    </tr>\n",
              "    <tr>\n",
              "      <th>79</th>\n",
              "      <td>2020/4/10</td>\n",
              "      <td>496378</td>\n",
              "    </tr>\n",
              "  </tbody>\n",
              "</table>\n",
              "</div>"
            ],
            "text/plain": [
              "    Day Index  Num0fCase\n",
              "75   2020/4/6     366508\n",
              "76   2020/4/7     396069\n",
              "77   2020/4/8     428895\n",
              "78   2020/4/9     461280\n",
              "79  2020/4/10     496378"
            ]
          },
          "metadata": {
            "tags": []
          },
          "execution_count": 22
        }
      ]
    },
    {
      "cell_type": "code",
      "metadata": {
        "id": "GOS-p7c5vfC4",
        "colab_type": "code",
        "outputId": "db702ce0-f44e-4fb7-9b1b-065bf7ba1261",
        "colab": {
          "base_uri": "https://localhost:8080/",
          "height": 102
        }
      },
      "source": [
        "# the data time for 'Day Index' is not a date time object!\n",
        "\n",
        "googleanalyticsdata['Day Index'].describe()"
      ],
      "execution_count": 0,
      "outputs": [
        {
          "output_type": "execute_result",
          "data": {
            "text/plain": [
              "count            80\n",
              "unique           80\n",
              "top       2020/3/10\n",
              "freq              1\n",
              "Name: Day Index, dtype: object"
            ]
          },
          "metadata": {
            "tags": []
          },
          "execution_count": 23
        }
      ]
    },
    {
      "cell_type": "code",
      "metadata": {
        "id": "CIUDfJrbwXfb",
        "colab_type": "code",
        "outputId": "8b26a15e-42c2-475b-f1c4-69ec45d3666b",
        "colab": {
          "base_uri": "https://localhost:8080/",
          "height": 204
        }
      },
      "source": [
        "googleanalyticsdata.tail()"
      ],
      "execution_count": 0,
      "outputs": [
        {
          "output_type": "execute_result",
          "data": {
            "text/html": [
              "<div>\n",
              "<style scoped>\n",
              "    .dataframe tbody tr th:only-of-type {\n",
              "        vertical-align: middle;\n",
              "    }\n",
              "\n",
              "    .dataframe tbody tr th {\n",
              "        vertical-align: top;\n",
              "    }\n",
              "\n",
              "    .dataframe thead th {\n",
              "        text-align: right;\n",
              "    }\n",
              "</style>\n",
              "<table border=\"1\" class=\"dataframe\">\n",
              "  <thead>\n",
              "    <tr style=\"text-align: right;\">\n",
              "      <th></th>\n",
              "      <th>Day Index</th>\n",
              "      <th>Num0fCase</th>\n",
              "    </tr>\n",
              "  </thead>\n",
              "  <tbody>\n",
              "    <tr>\n",
              "      <th>75</th>\n",
              "      <td>2020/4/6</td>\n",
              "      <td>366508</td>\n",
              "    </tr>\n",
              "    <tr>\n",
              "      <th>76</th>\n",
              "      <td>2020/4/7</td>\n",
              "      <td>396069</td>\n",
              "    </tr>\n",
              "    <tr>\n",
              "      <th>77</th>\n",
              "      <td>2020/4/8</td>\n",
              "      <td>428895</td>\n",
              "    </tr>\n",
              "    <tr>\n",
              "      <th>78</th>\n",
              "      <td>2020/4/9</td>\n",
              "      <td>461280</td>\n",
              "    </tr>\n",
              "    <tr>\n",
              "      <th>79</th>\n",
              "      <td>2020/4/10</td>\n",
              "      <td>496378</td>\n",
              "    </tr>\n",
              "  </tbody>\n",
              "</table>\n",
              "</div>"
            ],
            "text/plain": [
              "    Day Index  Num0fCase\n",
              "75   2020/4/6     366508\n",
              "76   2020/4/7     396069\n",
              "77   2020/4/8     428895\n",
              "78   2020/4/9     461280\n",
              "79  2020/4/10     496378"
            ]
          },
          "metadata": {
            "tags": []
          },
          "execution_count": 24
        }
      ]
    },
    {
      "cell_type": "code",
      "metadata": {
        "id": "8HrOM8TUwiqv",
        "colab_type": "code",
        "outputId": "89947a63-5a14-47f8-c4f2-94186d4c956d",
        "colab": {
          "base_uri": "https://localhost:8080/",
          "height": 170
        }
      },
      "source": [
        "#let's get a sense of what the variation in the data is.\n",
        "#standard deviation is 83. Varies from 0 to 548.\n",
        "print(googleanalyticsdata['Num0fCase'].describe())"
      ],
      "execution_count": 0,
      "outputs": [
        {
          "output_type": "stream",
          "text": [
            "count        80.000000\n",
            "mean      57654.800000\n",
            "std      122362.144172\n",
            "min           1.000000\n",
            "25%          11.750000\n",
            "50%          41.500000\n",
            "75%       27628.500000\n",
            "max      496378.000000\n",
            "Name: Num0fCase, dtype: float64\n"
          ],
          "name": "stdout"
        }
      ]
    },
    {
      "cell_type": "code",
      "metadata": {
        "id": "wEz67l2ow09s",
        "colab_type": "code",
        "outputId": "bc2014c8-b299-4672-d198-86d9014f9fec",
        "colab": {
          "base_uri": "https://localhost:8080/",
          "height": 285
        }
      },
      "source": [
        "pd.plotting.register_matplotlib_converters()\n",
        "sns.set(rc={'figure.figsize':(14,4)})\n",
        "googleanalyticsdata['Num0fCase'].plot(linewidth=0.75)"
      ],
      "execution_count": 0,
      "outputs": [
        {
          "output_type": "execute_result",
          "data": {
            "text/plain": [
              "<matplotlib.axes._subplots.AxesSubplot at 0x7fd2e6321eb8>"
            ]
          },
          "metadata": {
            "tags": []
          },
          "execution_count": 26
        },
        {
          "output_type": "display_data",
          "data": {
            "image/png": "[encoded data removed]",
            "text/plain": [
              "<Figure size 1008x288 with 1 Axes>"
            ]
          },
          "metadata": {
            "tags": []
          }
        }
      ]
    },
    {
      "cell_type": "markdown",
      "metadata": {
        "id": "Hrdhje_SNzYI",
        "colab_type": "text"
      },
      "source": [
        "## Learning more about the time series(ADF/ACF/PACF)\n"
      ]
    },
    {
      "cell_type": "code",
      "metadata": {
        "id": "K5f2NuDOOtnm",
        "colab_type": "code",
        "outputId": "51e37fd5-ff24-41c1-e677-aa5d8cd4d129",
        "colab": {
          "base_uri": "https://localhost:8080/",
          "height": 170
        }
      },
      "source": [
        "adf_test(googleanalyticsdata['Num0fCase'])"
      ],
      "execution_count": 0,
      "outputs": [
        {
          "output_type": "stream",
          "text": [
            "Results of Dickey-Fuller Test:\n",
            "Test Statistic                  2.215173\n",
            "p-value                         0.998895\n",
            "#Lags Used                     12.000000\n",
            "Number of Observations Used    67.000000\n",
            "Critical Value (1%)            -3.531955\n",
            "Critical Value (5%)            -2.905755\n",
            "Critical Value (10%)           -2.590357\n",
            "dtype: float64\n"
          ],
          "name": "stdout"
        }
      ]
    },
    {
      "cell_type": "code",
      "metadata": {
        "id": "Bq-VLdFQO0DW",
        "colab_type": "code",
        "outputId": "eb8ca3a2-f04e-4486-ab0d-cabce2741781",
        "colab": {
          "base_uri": "https://localhost:8080/",
          "height": 551
        }
      },
      "source": [
        "plot_acf(googleanalyticsdata['Num0fCase'],lags=40)"
      ],
      "execution_count": 0,
      "outputs": [
        {
          "output_type": "execute_result",
          "data": {
            "image/png": "[encoded data removed]",
            "text/plain": [
              "<Figure size 1008x288 with 1 Axes>"
            ]
          },
          "metadata": {
            "tags": []
          },
          "execution_count": 37
        },
        {
          "output_type": "display_data",
          "data": {
            "image/png": "[encoded data removed]",
            "text/plain": [
              "<Figure size 1008x288 with 1 Axes>"
            ]
          },
          "metadata": {
            "tags": []
          }
        }
      ]
    },
    {
      "cell_type": "code",
      "metadata": {
        "id": "-EW6YRHlQJXw",
        "colab_type": "code",
        "outputId": "76e4da07-5a7a-4ae3-cc08-c26c1b622e3f",
        "colab": {
          "base_uri": "https://localhost:8080/",
          "height": 551
        }
      },
      "source": [
        "plot_pacf(googleanalyticsdata['Num0fCase'],lags=40)"
      ],
      "execution_count": 0,
      "outputs": [
        {
          "output_type": "execute_result",
          "data": {
            "image/png": "[encoded data removed]",
            "text/plain": [
              "<Figure size 1008x288 with 1 Axes>"
            ]
          },
          "metadata": {
            "tags": []
          },
          "execution_count": 36
        },
        {
          "output_type": "display_data",
          "data": {
            "image/png": "[encoded data removed]",
            "text/plain": [
              "<Figure size 1008x288 with 1 Axes>"
            ]
          },
          "metadata": {
            "tags": []
          }
        }
      ]
    },
    {
      "cell_type": "markdown",
      "metadata": {
        "id": "yqaY5_IUTLtD",
        "colab_type": "text"
      },
      "source": [
        "## ARIMA Modeling"
      ]
    },
    {
      "cell_type": "code",
      "metadata": {
        "id": "nFe60k-2Iw30",
        "colab_type": "code",
        "colab": {}
      },
      "source": [
        "import matplotlib.pyplot as plt\n",
        "from statsmodels.tsa.arima_model import ARIMA"
      ],
      "execution_count": 0,
      "outputs": []
    },
    {
      "cell_type": "markdown",
      "metadata": {
        "id": "s8unxWLQI69_",
        "colab_type": "text"
      },
      "source": [
        "Taking the parameters we learned from ADF,ACF,and PACF, let's try a model"
      ]
    },
    {
      "cell_type": "code",
      "metadata": {
        "id": "w6oefpGYJIEv",
        "colab_type": "code",
        "outputId": "2f6b8b06-32b5-4603-ea08-1768012652d2",
        "colab": {
          "base_uri": "https://localhost:8080/",
          "height": 986
        }
      },
      "source": [
        "model = ARIMA(googleanalyticsdata[\"Num0fCase\"],order=(5,1,1))\n",
        "model_fit = model.fit(disp=0)\n",
        "summary = model_fit.summary().as_text()\n",
        "for aline in summary.split(','):\n",
        "  print(aline)"
      ],
      "execution_count": 0,
      "outputs": [
        {
          "output_type": "stream",
          "text": [
            "                             ARIMA Model Results                              \n",
            "==============================================================================\n",
            "Dep. Variable:            D.Num0fCase   No. Observations:                   79\n",
            "Model:                 ARIMA(5\n",
            " 1\n",
            " 1)   Log Likelihood                -689.898\n",
            "Method:                       css-mle   S.D. of innovations         281823.847\n",
            "Date:                Tue\n",
            " 28 Apr 2020   AIC                           1395.796\n",
            "Time:                        04:29:30   BIC                           1414.751\n",
            "Sample:                             1   HQIC                          1403.390\n",
            "                                                                              \n",
            "=====================================================================================\n",
            "                        coef    std err          z      P>|z|      [0.025      0.975]\n",
            "-------------------------------------------------------------------------------------\n",
            "const              6283.2554        nan        nan        nan         nan         nan\n",
            "ar.L1.D.Num0fCase     1.6941   9.03e-06   1.88e+05      0.000       1.694       1.694\n",
            "ar.L2.D.Num0fCase    -0.3898        nan        nan        nan         nan         nan\n",
            "ar.L3.D.Num0fCase    -0.5610        nan        nan        nan         nan         nan\n",
            "ar.L4.D.Num0fCase     0.4980   2.35e-06   2.12e+05      0.000       0.498       0.498\n",
            "ar.L5.D.Num0fCase    -0.2465   2.54e-06  -9.71e+04      0.000      -0.246      -0.246\n",
            "ma.L1.D.Num0fCase    -0.8154      0.064    -12.777      0.000      -0.941      -0.690\n",
            "                                    Roots                                    \n",
            "=============================================================================\n",
            "                  Real          Imaginary           Modulus         Frequency\n",
            "-----------------------------------------------------------------------------\n",
            "AR.1           -1.3344           -0.0000j            1.3344           -0.5000\n",
            "AR.2            0.9983           -0.0575j            1.0000           -0.0092\n",
            "AR.3            0.9983           +0.0575j            1.0000            0.0092\n",
            "AR.4            0.6793           -1.6060j            1.7438           -0.1863\n",
            "AR.5            0.6793           +1.6060j            1.7438            0.1863\n",
            "MA.1            1.2263           +0.0000j            1.2263            0.0000\n",
            "-----------------------------------------------------------------------------\n"
          ],
          "name": "stdout"
        },
        {
          "output_type": "stream",
          "text": [
            "/usr/local/lib/python3.6/dist-packages/statsmodels/base/model.py:492: HessianInversionWarning:\n",
            "\n",
            "Inverting hessian failed, no bse or cov_params available\n",
            "\n",
            "/usr/local/lib/python3.6/dist-packages/statsmodels/base/model.py:512: ConvergenceWarning:\n",
            "\n",
            "Maximum Likelihood optimization failed to converge. Check mle_retvals\n",
            "\n",
            "/usr/local/lib/python3.6/dist-packages/statsmodels/tsa/arima_model.py:1441: RuntimeWarning:\n",
            "\n",
            "invalid value encountered in sqrt\n",
            "\n",
            "/usr/local/lib/python3.6/dist-packages/scipy/stats/_distn_infrastructure.py:903: RuntimeWarning:\n",
            "\n",
            "invalid value encountered in greater\n",
            "\n",
            "/usr/local/lib/python3.6/dist-packages/scipy/stats/_distn_infrastructure.py:903: RuntimeWarning:\n",
            "\n",
            "invalid value encountered in less\n",
            "\n",
            "/usr/local/lib/python3.6/dist-packages/scipy/stats/_distn_infrastructure.py:1912: RuntimeWarning:\n",
            "\n",
            "invalid value encountered in less_equal\n",
            "\n"
          ],
          "name": "stderr"
        }
      ]
    },
    {
      "cell_type": "code",
      "metadata": {
        "id": "WohHMIzpJ7Hg",
        "colab_type": "code",
        "outputId": "538b4611-869c-4bc8-817c-a4419221a272",
        "colab": {
          "base_uri": "https://localhost:8080/",
          "height": 413
        }
      },
      "source": [
        "model = ARIMA(googleanalyticsdata[\"Num0fCase\"],order=(2,1,1))\n",
        "model_fit = model.fit(disp=0)\n",
        "summary = model_fit.summary().as_text()\n",
        "for aline in summary.split(','):\n",
        "  print(aline)"
      ],
      "execution_count": 0,
      "outputs": [
        {
          "output_type": "error",
          "ename": "ValueError",
          "evalue": "ignored",
          "traceback": [
            "\u001b[0;31m---------------------------------------------------------------------------\u001b[0m",
            "\u001b[0;31mValueError\u001b[0m                                Traceback (most recent call last)",
            "\u001b[0;32m<ipython-input-47-c9c20ae2c600>\u001b[0m in \u001b[0;36m<module>\u001b[0;34m()\u001b[0m\n\u001b[1;32m      1\u001b[0m \u001b[0mmodel\u001b[0m \u001b[0;34m=\u001b[0m \u001b[0mARIMA\u001b[0m\u001b[0;34m(\u001b[0m\u001b[0mgoogleanalyticsdata\u001b[0m\u001b[0;34m[\u001b[0m\u001b[0;34m\"Num0fCase\"\u001b[0m\u001b[0;34m]\u001b[0m\u001b[0;34m,\u001b[0m\u001b[0morder\u001b[0m\u001b[0;34m=\u001b[0m\u001b[0;34m(\u001b[0m\u001b[0;36m2\u001b[0m\u001b[0;34m,\u001b[0m\u001b[0;36m1\u001b[0m\u001b[0;34m,\u001b[0m\u001b[0;36m1\u001b[0m\u001b[0;34m)\u001b[0m\u001b[0;34m)\u001b[0m\u001b[0;34m\u001b[0m\u001b[0;34m\u001b[0m\u001b[0m\n\u001b[0;32m----> 2\u001b[0;31m \u001b[0mmodel_fit\u001b[0m \u001b[0;34m=\u001b[0m \u001b[0mmodel\u001b[0m\u001b[0;34m.\u001b[0m\u001b[0mfit\u001b[0m\u001b[0;34m(\u001b[0m\u001b[0mdisp\u001b[0m\u001b[0;34m=\u001b[0m\u001b[0;36m0\u001b[0m\u001b[0;34m)\u001b[0m\u001b[0;34m\u001b[0m\u001b[0;34m\u001b[0m\u001b[0m\n\u001b[0m\u001b[1;32m      3\u001b[0m \u001b[0msummary\u001b[0m \u001b[0;34m=\u001b[0m \u001b[0mmodel_fit\u001b[0m\u001b[0;34m.\u001b[0m\u001b[0msummary\u001b[0m\u001b[0;34m(\u001b[0m\u001b[0;34m)\u001b[0m\u001b[0;34m.\u001b[0m\u001b[0mas_text\u001b[0m\u001b[0;34m(\u001b[0m\u001b[0;34m)\u001b[0m\u001b[0;34m\u001b[0m\u001b[0;34m\u001b[0m\u001b[0m\n\u001b[1;32m      4\u001b[0m \u001b[0;32mfor\u001b[0m \u001b[0maline\u001b[0m \u001b[0;32min\u001b[0m \u001b[0msummary\u001b[0m\u001b[0;34m.\u001b[0m\u001b[0msplit\u001b[0m\u001b[0;34m(\u001b[0m\u001b[0;34m','\u001b[0m\u001b[0;34m)\u001b[0m\u001b[0;34m:\u001b[0m\u001b[0;34m\u001b[0m\u001b[0;34m\u001b[0m\u001b[0m\n\u001b[1;32m      5\u001b[0m   \u001b[0mprint\u001b[0m\u001b[0;34m(\u001b[0m\u001b[0maline\u001b[0m\u001b[0;34m)\u001b[0m\u001b[0;34m\u001b[0m\u001b[0;34m\u001b[0m\u001b[0m\n",
            "\u001b[0;32m/usr/local/lib/python3.6/dist-packages/statsmodels/tsa/arima_model.py\u001b[0m in \u001b[0;36mfit\u001b[0;34m(self, start_params, trend, method, transparams, solver, maxiter, full_output, disp, callback, start_ar_lags, **kwargs)\u001b[0m\n\u001b[1;32m   1147\u001b[0m                                            \u001b[0mmethod\u001b[0m\u001b[0;34m,\u001b[0m \u001b[0mtransparams\u001b[0m\u001b[0;34m,\u001b[0m \u001b[0msolver\u001b[0m\u001b[0;34m,\u001b[0m\u001b[0;34m\u001b[0m\u001b[0;34m\u001b[0m\u001b[0m\n\u001b[1;32m   1148\u001b[0m                                            \u001b[0mmaxiter\u001b[0m\u001b[0;34m,\u001b[0m \u001b[0mfull_output\u001b[0m\u001b[0;34m,\u001b[0m \u001b[0mdisp\u001b[0m\u001b[0;34m,\u001b[0m\u001b[0;34m\u001b[0m\u001b[0;34m\u001b[0m\u001b[0m\n\u001b[0;32m-> 1149\u001b[0;31m                                            callback, start_ar_lags, **kwargs)\n\u001b[0m\u001b[1;32m   1150\u001b[0m         \u001b[0mnormalized_cov_params\u001b[0m \u001b[0;34m=\u001b[0m \u001b[0;32mNone\u001b[0m  \u001b[0;31m# TODO: fix this?\u001b[0m\u001b[0;34m\u001b[0m\u001b[0;34m\u001b[0m\u001b[0m\n\u001b[1;32m   1151\u001b[0m         arima_fit = ARIMAResults(self, mlefit._results.params,\n",
            "\u001b[0;32m/usr/local/lib/python3.6/dist-packages/statsmodels/tsa/arima_model.py\u001b[0m in \u001b[0;36mfit\u001b[0;34m(self, start_params, trend, method, transparams, solver, maxiter, full_output, disp, callback, start_ar_lags, **kwargs)\u001b[0m\n\u001b[1;32m    936\u001b[0m         \u001b[0;32melse\u001b[0m\u001b[0;34m:\u001b[0m  \u001b[0;31m# estimate starting parameters\u001b[0m\u001b[0;34m\u001b[0m\u001b[0;34m\u001b[0m\u001b[0m\n\u001b[1;32m    937\u001b[0m             start_params = self._fit_start_params((k_ar, k_ma, k), method,\n\u001b[0;32m--> 938\u001b[0;31m                                                   start_ar_lags)\n\u001b[0m\u001b[1;32m    939\u001b[0m \u001b[0;34m\u001b[0m\u001b[0m\n\u001b[1;32m    940\u001b[0m         \u001b[0;32mif\u001b[0m \u001b[0mtransparams\u001b[0m\u001b[0;34m:\u001b[0m  \u001b[0;31m# transform initial parameters to ensure invertibility\u001b[0m\u001b[0;34m\u001b[0m\u001b[0;34m\u001b[0m\u001b[0m\n",
            "\u001b[0;32m/usr/local/lib/python3.6/dist-packages/statsmodels/tsa/arima_model.py\u001b[0m in \u001b[0;36m_fit_start_params\u001b[0;34m(self, order, method, start_ar_lags)\u001b[0m\n\u001b[1;32m    552\u001b[0m             \u001b[0mfunc\u001b[0m \u001b[0;34m=\u001b[0m \u001b[0;32mlambda\u001b[0m \u001b[0mparams\u001b[0m\u001b[0;34m:\u001b[0m \u001b[0;34m-\u001b[0m\u001b[0mself\u001b[0m\u001b[0;34m.\u001b[0m\u001b[0mloglike_css\u001b[0m\u001b[0;34m(\u001b[0m\u001b[0mparams\u001b[0m\u001b[0;34m)\u001b[0m\u001b[0;34m\u001b[0m\u001b[0;34m\u001b[0m\u001b[0m\n\u001b[1;32m    553\u001b[0m             \u001b[0;31m#start_params = [.1]*(k_ar+k_ma+k_exog) # different one for k?\u001b[0m\u001b[0;34m\u001b[0m\u001b[0;34m\u001b[0m\u001b[0;34m\u001b[0m\u001b[0m\n\u001b[0;32m--> 554\u001b[0;31m             \u001b[0mstart_params\u001b[0m \u001b[0;34m=\u001b[0m \u001b[0mself\u001b[0m\u001b[0;34m.\u001b[0m\u001b[0m_fit_start_params_hr\u001b[0m\u001b[0;34m(\u001b[0m\u001b[0morder\u001b[0m\u001b[0;34m,\u001b[0m \u001b[0mstart_ar_lags\u001b[0m\u001b[0;34m)\u001b[0m\u001b[0;34m\u001b[0m\u001b[0;34m\u001b[0m\u001b[0m\n\u001b[0m\u001b[1;32m    555\u001b[0m             \u001b[0;32mif\u001b[0m \u001b[0mself\u001b[0m\u001b[0;34m.\u001b[0m\u001b[0mtransparams\u001b[0m\u001b[0;34m:\u001b[0m\u001b[0;34m\u001b[0m\u001b[0;34m\u001b[0m\u001b[0m\n\u001b[1;32m    556\u001b[0m                 \u001b[0mstart_params\u001b[0m \u001b[0;34m=\u001b[0m \u001b[0mself\u001b[0m\u001b[0;34m.\u001b[0m\u001b[0m_invtransparams\u001b[0m\u001b[0;34m(\u001b[0m\u001b[0mstart_params\u001b[0m\u001b[0;34m)\u001b[0m\u001b[0;34m\u001b[0m\u001b[0;34m\u001b[0m\u001b[0m\n",
            "\u001b[0;32m/usr/local/lib/python3.6/dist-packages/statsmodels/tsa/arima_model.py\u001b[0m in \u001b[0;36m_fit_start_params_hr\u001b[0;34m(self, order, start_ar_lags)\u001b[0m\n\u001b[1;32m    531\u001b[0m         if p and not np.all(np.abs(np.roots(np.r_[1, -start_params[k:k + p]]\n\u001b[1;32m    532\u001b[0m                                             )) < 1):\n\u001b[0;32m--> 533\u001b[0;31m             raise ValueError(\"The computed initial AR coefficients are not \"\n\u001b[0m\u001b[1;32m    534\u001b[0m                              \u001b[0;34m\"stationary\\nYou should induce stationarity, \"\u001b[0m\u001b[0;34m\u001b[0m\u001b[0;34m\u001b[0m\u001b[0m\n\u001b[1;32m    535\u001b[0m                              \u001b[0;34m\"choose a different model order, or you can\\n\"\u001b[0m\u001b[0;34m\u001b[0m\u001b[0;34m\u001b[0m\u001b[0m\n",
            "\u001b[0;31mValueError\u001b[0m: The computed initial AR coefficients are not stationary\nYou should induce stationarity, choose a different model order, or you can\npass your own start_params."
          ]
        }
      ]
    },
    {
      "cell_type": "code",
      "metadata": {
        "id": "D2eK7rYbKs5H",
        "colab_type": "code",
        "outputId": "6a34bf84-8267-494e-a211-9a516251757f",
        "colab": {
          "base_uri": "https://localhost:8080/",
          "height": 119
        }
      },
      "source": [
        "model_fit.resid.head()"
      ],
      "execution_count": 0,
      "outputs": [
        {
          "output_type": "execute_result",
          "data": {
            "text/plain": [
              "1   -6283.255401\n",
              "2      -9.409726\n",
              "3     -22.815478\n",
              "4     -32.766752\n",
              "5     -45.287603\n",
              "dtype: float64"
            ]
          },
          "metadata": {
            "tags": []
          },
          "execution_count": 48
        }
      ]
    },
    {
      "cell_type": "code",
      "metadata": {
        "id": "wuCNRb6XKyv7",
        "colab_type": "code",
        "outputId": "2ec7c9e5-7309-4af4-a9ec-379a92d3ff9a",
        "colab": {
          "base_uri": "https://localhost:8080/",
          "height": 285
        }
      },
      "source": [
        "residuals = pd.DataFrame(model_fit.resid)\n",
        "sns.distplot(residuals,hist=True,kde=True)"
      ],
      "execution_count": 0,
      "outputs": [
        {
          "output_type": "execute_result",
          "data": {
            "text/plain": [
              "<matplotlib.axes._subplots.AxesSubplot at 0x7fd2e5c53898>"
            ]
          },
          "metadata": {
            "tags": []
          },
          "execution_count": 49
        },
        {
          "output_type": "display_data",
          "data": {
            "image/png": "[encoded data removed]",
            "text/plain": [
              "<Figure size 1008x288 with 1 Axes>"
            ]
          },
          "metadata": {
            "tags": []
          }
        }
      ]
    },
    {
      "cell_type": "code",
      "metadata": {
        "id": "rp1Zn_1JLBtz",
        "colab_type": "code",
        "outputId": "3ccd141d-a4d9-4cd3-bfaa-3d169853ed8b",
        "colab": {
          "base_uri": "https://localhost:8080/",
          "height": 34
        }
      },
      "source": [
        "from statsmodels.stats.stattools import durbin_watson\n",
        "print(durbin_watson(residuals))"
      ],
      "execution_count": 0,
      "outputs": [
        {
          "output_type": "stream",
          "text": [
            "[1.75314121]\n"
          ],
          "name": "stdout"
        }
      ]
    },
    {
      "cell_type": "code",
      "metadata": {
        "id": "tsoOKNG-LzKa",
        "colab_type": "code",
        "outputId": "ef8d8853-a742-424d-cb8e-71c3dcce4eea",
        "colab": {
          "base_uri": "https://localhost:8080/",
          "height": 51
        }
      },
      "source": [
        "#absolute value because we are not descriminating from being over or under on a prediction\n",
        "\n",
        "absresiduals =abs(residuals)\n",
        "print(np.mean(abs(residuals)))"
      ],
      "execution_count": 0,
      "outputs": [
        {
          "output_type": "stream",
          "text": [
            "0    680.371092\n",
            "dtype: float64\n"
          ],
          "name": "stdout"
        }
      ]
    },
    {
      "cell_type": "code",
      "metadata": {
        "id": "h5M1qjzIMFed",
        "colab_type": "code",
        "outputId": "88a2c48f-d46c-47ea-9804-bcb1848e9771",
        "colab": {
          "base_uri": "https://localhost:8080/",
          "height": 170
        }
      },
      "source": [
        "#let's get a sense of what the variation in the data is.\n",
        "#standard deviation is 83\n",
        "#we can predict within a half of a standard deviation,good.Nor great.\n",
        "print(googleanalyticsdata['Num0fCase'].describe())"
      ],
      "execution_count": 0,
      "outputs": [
        {
          "output_type": "stream",
          "text": [
            "count        80.000000\n",
            "mean      57654.800000\n",
            "std      122362.144172\n",
            "min           1.000000\n",
            "25%          11.750000\n",
            "50%          41.500000\n",
            "75%       27628.500000\n",
            "max      496378.000000\n",
            "Name: Num0fCase, dtype: float64\n"
          ],
          "name": "stdout"
        }
      ]
    },
    {
      "cell_type": "code",
      "metadata": {
        "id": "sOvrFMGTMiNy",
        "colab_type": "code",
        "outputId": "5869118f-b367-45a8-d383-7518c076b1fd",
        "colab": {
          "base_uri": "https://localhost:8080/",
          "height": 519
        }
      },
      "source": [
        "pd.plotting.register_matplotlib_converters()\n",
        "model_fit.plot_predict()"
      ],
      "execution_count": 0,
      "outputs": [
        {
          "output_type": "execute_result",
          "data": {
            "image/png": "[encoded data removed]",
            "text/plain": [
              "<Figure size 1008x288 with 1 Axes>"
            ]
          },
          "metadata": {
            "tags": []
          },
          "execution_count": 53
        },
        {
          "output_type": "display_data",
          "data": {
            "image/png": "[encoded data removed]",
            "text/plain": [
              "<Figure size 1008x288 with 1 Axes>"
            ]
          },
          "metadata": {
            "tags": []
          }
        }
      ]
    }
  ]
}
